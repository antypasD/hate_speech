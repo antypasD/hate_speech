{
 "cells": [
  {
   "cell_type": "code",
   "execution_count": 1,
   "metadata": {},
   "outputs": [],
   "source": [
    "import pandas as pd\n",
    "import datasets\n",
    "from collections import defaultdict, Counter\n",
    "#from twarc import Twarc2, expansions\n",
    "import configparser\n",
    "import json\n",
    "import numpy as np"
   ]
  },
  {
   "attachments": {},
   "cell_type": "markdown",
   "metadata": {},
   "source": [
    "TODO:\n",
    "- An introduction\n",
    "- lang detection -> https://fasttext.cc/docs/en/language-identification.html"
   ]
  },
  {
   "cell_type": "code",
   "execution_count": 2,
   "metadata": {},
   "outputs": [],
   "source": [
    "# Get Twitter api credentials\n",
    "config = configparser.RawConfigParser()\n",
    "config.read(\"/home/dimosthenis/.twitter_credentials.ini\")\n",
    "\n",
    "BEARER_TOKEN = config['twitter_api']['bearer_token']\n",
    "\n",
    "CONSUMER_KEY = config['twitter_api']['consumer_key']\n",
    "CONSUMER_SECRET = config['twitter_api']['consumer_secret']\n",
    "\n",
    "ACCESS_TOKEN = config['twitter_api']['access_token']\n",
    "ACCESS_SECRET = config['twitter_api']['access_secret']"
   ]
  },
  {
   "cell_type": "code",
   "execution_count": 3,
   "metadata": {},
   "outputs": [],
   "source": [
    "# SET LABELS\n",
    "HATE = 1\n",
    "NOT_HATE = 0"
   ]
  },
  {
   "cell_type": "code",
   "execution_count": 4,
   "metadata": {},
   "outputs": [],
   "source": [
    "# Preprocess text (username and link placeholders)\n",
    "def preprocess(text):\n",
    "    new_text = []\n",
    "    for t in text.split(\" \"):\n",
    "        t = '@user' if t.startswith('@') and len(t) > 1 else t\n",
    "        t = \"@user\" if t.startswith(\"MENTION\") else t\n",
    "        t = \"@user\" if t.startswith(\"<user>\") else t\n",
    "        t = \"@user\" if t.startswith(\"@USER\") else t\n",
    "        t = 'http' if t.startswith('http') else t\n",
    "        new_text.append(t)\n",
    "    return \" \".join(new_text)\n",
    "\n",
    "\n",
    "\n",
    "def chunks(l, n):\n",
    "    \"\"\"Yield successive n-sized chunks from l.\"\"\"\n",
    "    for i in range(0, len(l), n):\n",
    "        yield l[i:i + n]\n"
   ]
  },
  {
   "attachments": {},
   "cell_type": "markdown",
   "metadata": {},
   "source": [
    "# Measuring-hate-speech (a)"
   ]
  },
  {
   "cell_type": "code",
   "execution_count": 5,
   "metadata": {},
   "outputs": [
    {
     "name": "stderr",
     "output_type": "stream",
     "text": [
      "Using custom data configuration ucberkeley-dlab--measuring-hate-speech-c32713cabe528196\n",
      "Reusing dataset parquet (/home/dimosthenis/.cache/huggingface/datasets/ucberkeley-dlab___parquet/ucberkeley-dlab--measuring-hate-speech-c32713cabe528196/0.0.0/2a3b91fbd88a2c90d1dbbb32b460cf621d31bd5b05b934492fdef7d8d6f236ec)\n",
      "100%|██████████| 1/1 [00:00<00:00, 159.19it/s]\n"
     ]
    }
   ],
   "source": [
    "dataset = datasets.load_dataset(\n",
    "    'ucberkeley-dlab/measuring-hate-speech', 'binary')\n",
    "df = dataset['train'].to_pandas()\n"
   ]
  },
  {
   "cell_type": "code",
   "execution_count": 6,
   "metadata": {},
   "outputs": [
    {
     "data": {
      "text/plain": [
       "False"
      ]
     },
     "execution_count": 6,
     "metadata": {},
     "output_type": "execute_result"
    }
   ],
   "source": [
    "# check for duplicates\n",
    "df['comment_id'].nunique() == len(df)"
   ]
  },
  {
   "cell_type": "code",
   "execution_count": 7,
   "metadata": {},
   "outputs": [],
   "source": [
    "# hate_speech_score - continuous hate speech measure, where higher = more hateful and lower = less hateful.\n",
    "#  > 0.5 is approximately hate speech,\n",
    "#  < -1 is counter or supportive speech,\n",
    "#  and -1 to +0.5 is neutral or ambiguous.\n",
    "def map_label(x):\n",
    "    if x >= -1 and x <= 0.5:\n",
    "        label = 999  # neutral/ambiguous\n",
    "    elif x > 0.5:\n",
    "        label = HATE  # hate\n",
    "    elif x < -1:\n",
    "        label = NOT_HATE  # not hate\n",
    "    return label\n",
    "\n",
    "\n",
    "# get label\n",
    "df['label'] = df['hate_speech_score'].apply(map_label)\n",
    "\n",
    "# keep only entries from Twitter\n",
    "df = df[df['platform'] == 2]\n",
    "\n",
    "# ignore ambiguous\n",
    "df = df[df['label'].isin([0,1])]\n"
   ]
  },
  {
   "cell_type": "code",
   "execution_count": 8,
   "metadata": {},
   "outputs": [
    {
     "data": {
      "text/plain": [
       "comment_id\n",
       "20071    1\n",
       "20072    3\n",
       "20073    1\n",
       "20075    3\n",
       "20076    3\n",
       "        ..\n",
       "40063    2\n",
       "40065    3\n",
       "40066    2\n",
       "40069    2\n",
       "40070    4\n",
       "Name: label, Length: 10685, dtype: int64"
      ]
     },
     "execution_count": 8,
     "metadata": {},
     "output_type": "execute_result"
    }
   ],
   "source": [
    "# not all tweets are annotated by the same amount of coders\n",
    "df.groupby('comment_id')['label'].count()"
   ]
  },
  {
   "cell_type": "code",
   "execution_count": 9,
   "metadata": {},
   "outputs": [],
   "source": [
    "# we consider tweets with at least 2 coders and where there is no tie (i.e. Hate, Not_hate)\n",
    "def majority_class(x):\n",
    "    label_count = Counter(x)\n",
    "    # sort voting\n",
    "    label_count = {k: v for k, v in sorted(label_count.items(), key=lambda item: item[1])}\n",
    "    label_count_sorted = list(label_count.items())\n",
    "\n",
    "    majority_label = label_count_sorted[0][0]\n",
    "    # get second label if it exists\n",
    "    if len(label_count) > 1:\n",
    "        second_label = label_count_sorted[1][0]\n",
    "    else:\n",
    "        second_label = None\n",
    "    \n",
    "    # at least two coders agree\n",
    "    if label_count[majority_label] >= 2:\n",
    "        # if second label there is no tie\n",
    "        if second_label and majority_label > second_label:\n",
    "            return majority_label\n",
    "        elif not second_label:\n",
    "            return majority_label\n",
    "        else:\n",
    "            return None # there is a tie between major and second\n",
    "    else:\n",
    "        return None\n",
    "\n",
    "# map aggregated labels\n",
    "df = df.set_index('comment_id')\n",
    "df['label_aggregated'] = df.groupby('comment_id')['label'].apply(majority_class)\n",
    "df = df.reset_index()"
   ]
  },
  {
   "cell_type": "code",
   "execution_count": 10,
   "metadata": {},
   "outputs": [
    {
     "name": "stdout",
     "output_type": "stream",
     "text": [
      "Total tweets before: 24073\n",
      "Total tweets after: 20996\n"
     ]
    }
   ],
   "source": [
    "# remove tweets with no agreement\n",
    "print(f\"Total tweets before: {len(df)}\")\n",
    "df = df[df['label_aggregated'].notnull()]\n",
    "print(f\"Total tweets after: {len(df)}\")"
   ]
  },
  {
   "cell_type": "code",
   "execution_count": 11,
   "metadata": {},
   "outputs": [],
   "source": [
    "# now aggregated targets\n",
    "\n",
    "# gender here includes transgender too\n",
    "targets = ['target_race', 'target_religion', 'target_origin', 'target_gender',\n",
    "           'target_sexuality', 'target_age', 'target_disability']\n",
    "\n",
    "df = df.set_index('comment_id')\n",
    "\n",
    "for t in targets:\n",
    "    df[f\"{t}_aggregated\"] = df.groupby('comment_id')[t].apply(majority_class)\n",
    "\n",
    "df = df.reset_index()"
   ]
  },
  {
   "cell_type": "code",
   "execution_count": 12,
   "metadata": {},
   "outputs": [],
   "source": [
    "# no need of all annotators now -> keep each tweet only once\n",
    "df = df.groupby('comment_id').nth(0)\n",
    "\n",
    "df = df.reset_index()"
   ]
  },
  {
   "cell_type": "code",
   "execution_count": 13,
   "metadata": {},
   "outputs": [],
   "source": [
    "# consider target only if it is unique (i.e not race & religion)\n",
    "targets_aggr = [f\"{x}_aggregated\" for x in targets]\n",
    "\n",
    "# how many targets in each tweet\n",
    "df['targets#'] = df[targets_aggr].sum(axis=1)"
   ]
  },
  {
   "cell_type": "code",
   "execution_count": 14,
   "metadata": {},
   "outputs": [],
   "source": [
    "# clean label\n",
    "df = df.drop('label', axis=1) # to make sure\n",
    "df['label'] = df['label_aggregated']\n",
    "\n",
    "# clean multilabel\n",
    "# only tweets with 1 target\n",
    "idx_multilabel = df[df['targets#'] == 1].index\n",
    "\n",
    "# initialize column\n",
    "df['multilabel'] = None\n",
    "\n",
    "\n",
    "def get_target(col):\n",
    "    # check which targ_aggr is True\n",
    "    for x in targets_aggr:\n",
    "        if col[x]:\n",
    "            return x\n",
    "\n",
    "# consider only the idx_multilabel            \n",
    "df.loc[idx_multilabel, 'multilabel'] = df.loc[idx_multilabel].apply(get_target, axis=1)"
   ]
  },
  {
   "cell_type": "code",
   "execution_count": 15,
   "metadata": {},
   "outputs": [],
   "source": [
    "# clean text\n",
    "df['text'] = df['text'].apply(preprocess)"
   ]
  },
  {
   "cell_type": "code",
   "execution_count": 16,
   "metadata": {},
   "outputs": [
    {
     "data": {
      "text/plain": [
       "array([0., 1.])"
      ]
     },
     "execution_count": 16,
     "metadata": {},
     "output_type": "execute_result"
    }
   ],
   "source": [
    "df['label'].unique()"
   ]
  },
  {
   "cell_type": "code",
   "execution_count": 17,
   "metadata": {},
   "outputs": [
    {
     "data": {
      "text/plain": [
       "array(['target_gender_aggregated', None, 'target_sexuality_aggregated',\n",
       "       'target_religion_aggregated', 'target_race_aggregated',\n",
       "       'target_origin_aggregated', 'target_age_aggregated',\n",
       "       'target_disability_aggregated'], dtype=object)"
      ]
     },
     "execution_count": 17,
     "metadata": {},
     "output_type": "execute_result"
    }
   ],
   "source": [
    "df['multilabel'].unique()"
   ]
  },
  {
   "cell_type": "code",
   "execution_count": 18,
   "metadata": {},
   "outputs": [],
   "source": [
    "# save dataset\n",
    "df['dataset'] = \"a\"\n",
    "df['multilabel'] = None\n",
    "df[['dataset', 'text', 'label', 'multilabel']].to_csv(\n",
    "    './datasets/measuring_hate_speech.csv', index=False)"
   ]
  },
  {
   "attachments": {},
   "cell_type": "markdown",
   "metadata": {},
   "source": [
    "# Call me sexist, but (b)"
   ]
  },
  {
   "cell_type": "code",
   "execution_count": 19,
   "metadata": {},
   "outputs": [],
   "source": [
    "annotations = pd.read_csv('./new_datasets/Call me sexist, but/sexism_annotations.csv')\n",
    "data = pd.read_csv('./new_datasets/Call me sexist, but/sexism_data.csv')"
   ]
  },
  {
   "cell_type": "code",
   "execution_count": 20,
   "metadata": {},
   "outputs": [
    {
     "data": {
      "text/plain": [
       "array(['other', 'callme', 'benevolent', 'scales', 'hostile'], dtype=object)"
      ]
     },
     "execution_count": 20,
     "metadata": {},
     "output_type": "execute_result"
    }
   ],
   "source": [
    "data['dataset'].unique()"
   ]
  },
  {
   "cell_type": "code",
   "execution_count": 21,
   "metadata": {},
   "outputs": [
    {
     "data": {
      "text/plain": [
       "False    11822\n",
       "True      1809\n",
       "Name: sexist, dtype: int64"
      ]
     },
     "execution_count": 21,
     "metadata": {},
     "output_type": "execute_result"
    }
   ],
   "source": [
    "data['sexist'].value_counts()"
   ]
  },
  {
   "cell_type": "code",
   "execution_count": 22,
   "metadata": {},
   "outputs": [
    {
     "data": {
      "text/plain": [
       "True"
      ]
     },
     "execution_count": 22,
     "metadata": {},
     "output_type": "execute_result"
    }
   ],
   "source": [
    "# check for duplicates\n",
    "data['id'].nunique() == len(data)"
   ]
  },
  {
   "cell_type": "code",
   "execution_count": 23,
   "metadata": {},
   "outputs": [],
   "source": [
    "# map classes\n",
    "data['multilabel'] = data['sexist']\n",
    "data['multilabel'] = data['multilabel'].replace({True:'sexist', False: None})\n",
    "data['label'] = data['sexist'].replace({True: HATE, False: NOT_HATE})\n"
   ]
  },
  {
   "cell_type": "code",
   "execution_count": 24,
   "metadata": {},
   "outputs": [],
   "source": [
    "# clean text\n",
    "data['text'] = data['text'].apply(preprocess)\n"
   ]
  },
  {
   "cell_type": "code",
   "execution_count": 25,
   "metadata": {},
   "outputs": [
    {
     "data": {
      "text/plain": [
       "array([0, 1])"
      ]
     },
     "execution_count": 25,
     "metadata": {},
     "output_type": "execute_result"
    }
   ],
   "source": [
    "data['label'].unique()"
   ]
  },
  {
   "cell_type": "code",
   "execution_count": 26,
   "metadata": {},
   "outputs": [
    {
     "data": {
      "text/plain": [
       "array([None, 'sexist'], dtype=object)"
      ]
     },
     "execution_count": 26,
     "metadata": {},
     "output_type": "execute_result"
    }
   ],
   "source": [
    "data['multilabel'].unique()"
   ]
  },
  {
   "cell_type": "code",
   "execution_count": 27,
   "metadata": {},
   "outputs": [],
   "source": [
    " # save dataset\n",
    "data['dataset'] = \"b\"\n",
    "data[['dataset', 'text', 'label', 'multilabel']].to_csv(\n",
    "    './datasets/call_me_sexist.csv', index=False)\n"
   ]
  },
  {
   "cell_type": "code",
   "execution_count": 28,
   "metadata": {},
   "outputs": [
    {
     "data": {
      "text/plain": [
       "0    11822\n",
       "1     1809\n",
       "Name: label, dtype: int64"
      ]
     },
     "execution_count": 28,
     "metadata": {},
     "output_type": "execute_result"
    }
   ],
   "source": [
    "data['label'].value_counts()\n"
   ]
  },
  {
   "attachments": {},
   "cell_type": "markdown",
   "metadata": {},
   "source": [
    "# Hate Towards the Political Opponent (c)"
   ]
  },
  {
   "cell_type": "code",
   "execution_count": 29,
   "metadata": {},
   "outputs": [],
   "source": [
    "test = pd.read_csv('./new_datasets/Hate Towards Political Oponent/test.tsv',sep='\\t')\n",
    "test['split'] = 'test'\n",
    "train = pd.read_csv('./new_datasets/Hate Towards Political Oponent/train.tsv', sep='\\t')\n",
    "train['split'] = 'train'"
   ]
  },
  {
   "cell_type": "code",
   "execution_count": 30,
   "metadata": {},
   "outputs": [
    {
     "data": {
      "text/plain": [
       "array(['Non-Hateful', 'Hateful'], dtype=object)"
      ]
     },
     "execution_count": 30,
     "metadata": {},
     "output_type": "execute_result"
    }
   ],
   "source": [
    "test['HOF'].unique()"
   ]
  },
  {
   "cell_type": "code",
   "execution_count": 31,
   "metadata": {},
   "outputs": [],
   "source": [
    "df = pd.concat([test,train])"
   ]
  },
  {
   "cell_type": "code",
   "execution_count": 32,
   "metadata": {},
   "outputs": [],
   "source": [
    "# clean text\n",
    "df['text'] = df['text'].apply(preprocess)"
   ]
  },
  {
   "cell_type": "code",
   "execution_count": 33,
   "metadata": {},
   "outputs": [],
   "source": [
    "# map labels\n",
    "df['label'] = df['HOF'].replace({'Non-Hateful': NOT_HATE, 'Hateful':HATE})\n",
    "df['multilabel'] = None\n",
    "df['dataset'] = 'c'"
   ]
  },
  {
   "cell_type": "code",
   "execution_count": 34,
   "metadata": {},
   "outputs": [
    {
     "data": {
      "text/plain": [
       "array([0, 1])"
      ]
     },
     "execution_count": 34,
     "metadata": {},
     "output_type": "execute_result"
    }
   ],
   "source": [
    "df['label'].unique()"
   ]
  },
  {
   "cell_type": "code",
   "execution_count": 35,
   "metadata": {},
   "outputs": [
    {
     "data": {
      "text/plain": [
       "array([None], dtype=object)"
      ]
     },
     "execution_count": 35,
     "metadata": {},
     "output_type": "execute_result"
    }
   ],
   "source": [
    "df['multilabel'].unique()"
   ]
  },
  {
   "cell_type": "code",
   "execution_count": 36,
   "metadata": {},
   "outputs": [],
   "source": [
    "# save dataset\n",
    "df['dataset'] = \"b\"\n",
    "df[['dataset', 'split', 'text', 'label', 'multilabel']].to_csv(\n",
    "    './datasets/hate_towards_political.csv', index=False)\n"
   ]
  },
  {
   "cell_type": "code",
   "execution_count": 37,
   "metadata": {},
   "outputs": [
    {
     "data": {
      "text/plain": [
       "0    2648\n",
       "1     352\n",
       "Name: label, dtype: int64"
      ]
     },
     "execution_count": 37,
     "metadata": {},
     "output_type": "execute_result"
    }
   ],
   "source": [
    "df['label'].value_counts()"
   ]
  },
  {
   "attachments": {},
   "cell_type": "markdown",
   "metadata": {},
   "source": [
    "# HateXplain (d)\n",
    "\n",
    "\n",
    "- target: at least two annotators\n",
    "- target: instead of random if tie on the majority and not subclasses (e.g. jew & muslim)-> ignore"
   ]
  },
  {
   "cell_type": "code",
   "execution_count": 385,
   "metadata": {},
   "outputs": [],
   "source": [
    "df = pd.read_json('./new_datasets/HateXplain/dataset.json', orient='index')"
   ]
  },
  {
   "cell_type": "code",
   "execution_count": 386,
   "metadata": {},
   "outputs": [
    {
     "data": {
      "text/plain": [
       "True"
      ]
     },
     "execution_count": 386,
     "metadata": {},
     "output_type": "execute_result"
    }
   ],
   "source": [
    "# sanity check\n",
    "df['post_id'].nunique() == len(df)"
   ]
  },
  {
   "cell_type": "code",
   "execution_count": 387,
   "metadata": {},
   "outputs": [],
   "source": [
    "# join tokens to test\n",
    "df['text'] = df['post_tokens'].apply(lambda x: \" \".join(x))"
   ]
  },
  {
   "cell_type": "code",
   "execution_count": 388,
   "metadata": {},
   "outputs": [],
   "source": [
    "# normalise text\n",
    "df['text'] = df['text'].apply(preprocess)"
   ]
  },
  {
   "cell_type": "code",
   "execution_count": 389,
   "metadata": {},
   "outputs": [
    {
     "data": {
      "text/plain": [
       "20148"
      ]
     },
     "execution_count": 389,
     "metadata": {},
     "output_type": "execute_result"
    }
   ],
   "source": [
    "len(df)"
   ]
  },
  {
   "cell_type": "code",
   "execution_count": 390,
   "metadata": {},
   "outputs": [],
   "source": [
    "def majority_rule_class(x):\n",
    "    label_count = defaultdict(lambda : 0)\n",
    "    for annotator in x:\n",
    "        annon_label = annotator['label']\n",
    "        label_count[annon_label] += 1\n",
    "\n",
    "    # sort voting\n",
    "    label_count = {k: v for k, v in sorted(label_count.items(), key=lambda item: item[1])}\n",
    "    label_count_sorted = list(label_count.items())\n",
    "\n",
    "    majority_label = label_count_sorted[0][0]\n",
    "    # get second label if it exists\n",
    "    if len(label_count) > 1:\n",
    "        second_label = label_count_sorted[1][0]\n",
    "    else:\n",
    "        second_label = None\n",
    "    \n",
    "    # at least two coders agree\n",
    "    if label_count[majority_label] >= 2:\n",
    "        # if second label there is no tie\n",
    "        if second_label and majority_label > second_label:\n",
    "            return majority_label\n",
    "        elif not second_label:\n",
    "            return majority_label\n",
    "        else:\n",
    "            return None # there is a tie between major and second\n",
    "    else:\n",
    "        return None \n",
    "\n",
    "def count_targets(x):\n",
    "    target_count = Counter()\n",
    "    \n",
    "    for annotator in x:\n",
    "        annon_targets = annotator['target']\n",
    "        annon_targets = Counter(annon_targets)\n",
    "        \n",
    "        target_count += annon_targets\n",
    "    return target_count\n",
    "\n",
    "# combine classes (i.e christian with jeweish)\n",
    "def majority_rule_target(x, target_map):\n",
    "    target_count = Counter()\n",
    "    \n",
    "    \n",
    "    for annotator in x:\n",
    "        annon_targets = annotator['target']\n",
    "        annon_targets = Counter(annon_targets)\n",
    "        # combine targets (i.e christian + islam -> religion)\n",
    "        annon_targets_updated = {}\n",
    "        for k,v in annon_targets.items():\n",
    "            annon_targets_updated[target_map[k]]  = v\n",
    "\n",
    "        target_count += Counter(annon_targets_updated)\n",
    "    \n",
    "    # sort target_count\n",
    "    target_count = {k: v for k, v in sorted(target_count.items(), key=lambda item: item[1], reverse=True)}\n",
    "    target_count_sorted = list(target_count.items())\n",
    "\n",
    "    majority_label = target_count_sorted[0][0]\n",
    "    # get second label if it exists\n",
    "    if len(target_count) > 1:\n",
    "        second_label = target_count_sorted[1][0]\n",
    "    else:\n",
    "        second_label = None\n",
    "\n",
    "    # at least two coders agree\n",
    "    if target_count[majority_label] >= 2:\n",
    "        # if second label there is no tie or there is no second label\n",
    "        if (second_label and majority_label > second_label) or (not second_label):\n",
    "            return majority_label\n",
    "        else:\n",
    "            return None # there is a tie between major and second\n",
    "    else:\n",
    "        return None\n"
   ]
  },
  {
   "cell_type": "code",
   "execution_count": 391,
   "metadata": {},
   "outputs": [
    {
     "name": "stdout",
     "output_type": "stream",
     "text": [
      "dict_keys(['None', 'African', 'Asian', 'Caucasian', 'Women', 'Jewish', 'Homosexual', 'Islam', 'Other', 'Hispanic', 'Refugee', 'Men', 'Arab', 'Disability', 'Minority', 'Nonreligious', 'Indigenous', 'Indian', 'Economic', 'Christian', 'Heterosexual', 'Bisexual', 'Hindu', 'Buddhism', 'Asexual'])\n"
     ]
    }
   ],
   "source": [
    "# check available targets\n",
    "all_targets = Counter()\n",
    "for entry in df['annotators'].apply(count_targets):\n",
    "    all_targets += entry\n",
    "\n",
    "print(all_targets.keys())\n"
   ]
  },
  {
   "cell_type": "code",
   "execution_count": 392,
   "metadata": {},
   "outputs": [],
   "source": [
    "# combine different targets\n",
    "target_map = {\n",
    "    'None': 'none',\n",
    "    'African': 'racism',\n",
    "    'Asian': 'racism',\n",
    "    'Caucasian': 'racism',\n",
    "    'Women': 'gender',\n",
    "    'Jewish': 'religion',\n",
    "    'Homosexual': 'sexuality',\n",
    "    'Islam': 'religion',\n",
    "    'Other': 'other',\n",
    "    'Hispanic': 'racism',\n",
    "    'Refugee': 'refugee', # not sure about this\n",
    "    'Men': 'gender',\n",
    "    'Arab': 'racism',\n",
    "    'Disability': 'disability',\n",
    "    'Minority': 'minority', # not sure\n",
    "    'Nonreligious': 'religious',\n",
    "    'Indigenous': 'racism',\n",
    "    'Indian': 'racism',\n",
    "    'Economic': 'economic',\n",
    "    'Christian': 'religion',\n",
    "    'Heterosexual': 'sexuality',\n",
    "    'Bisexual': 'sexuality',\n",
    "    'Hindu': 'religion',\n",
    "    'Buddhism': 'religion',\n",
    "    'Asexual': 'sexuality'\n",
    "    }"
   ]
  },
  {
   "cell_type": "code",
   "execution_count": 393,
   "metadata": {},
   "outputs": [],
   "source": [
    "# get labels/mutlilabels\n",
    "df['label'] = df['annotators'].apply(majority_rule_class)\n",
    "df['multilabel'] = df['annotators'].apply(lambda x: majority_rule_target(x, target_map))\n",
    "# ensure consistency\n",
    "df['multilabel'] = df['multilabel'].replace({'None':None})"
   ]
  },
  {
   "cell_type": "code",
   "execution_count": 394,
   "metadata": {},
   "outputs": [
    {
     "data": {
      "text/plain": [
       "none          4472\n",
       "racism        3609\n",
       "religion      3404\n",
       "sexuality     1655\n",
       "refugee        755\n",
       "other          463\n",
       "gender         365\n",
       "disability       9\n",
       "Name: multilabel, dtype: int64"
      ]
     },
     "execution_count": 394,
     "metadata": {},
     "output_type": "execute_result"
    }
   ],
   "source": [
    "df['multilabel'].value_counts()"
   ]
  },
  {
   "cell_type": "code",
   "execution_count": 171,
   "metadata": {},
   "outputs": [
    {
     "name": "stdout",
     "output_type": "stream",
     "text": [
      "9845\n"
     ]
    }
   ],
   "source": [
    "# drop tweets with no agreement \n",
    "df = df[df['label'].notnull()]\n",
    "print(len(df))"
   ]
  },
  {
   "cell_type": "code",
   "execution_count": 172,
   "metadata": {},
   "outputs": [],
   "source": [
    "# map label\n",
    "df['label'] = df['label'].replace({'normal': NOT_HATE, 'hatespeech': HATE})\n",
    "# keep only hate and not-hate\n",
    "df = df[df['label'].isin([HATE, NOT_HATE])]\n",
    "# we map offensive to 1 only if it is targeted to a group (i.e. multilabel.notnull())\n",
    "df.loc[df[df['multilabel'].notnull()].index, 'label'] = df.loc[df[df['multilabel'].notnull()].index, 'label'].replace({'offensive': HATE})\n",
    "df['dataset'] = 'd'\n",
    "\n",
    "# set multilabel to None if not hatespeech\n",
    "df.loc[df[df['label'] == NOT_HATE].index, 'multilabel'] = None\n"
   ]
  },
  {
   "cell_type": "code",
   "execution_count": 173,
   "metadata": {},
   "outputs": [
    {
     "data": {
      "text/plain": [
       "racism       1076\n",
       "religion     1031\n",
       "sexuality     193\n",
       "refugee        24\n",
       "other           7\n",
       "gender          4\n",
       "Name: multilabel, dtype: int64"
      ]
     },
     "execution_count": 173,
     "metadata": {},
     "output_type": "execute_result"
    }
   ],
   "source": [
    "df['multilabel'].value_counts()"
   ]
  },
  {
   "cell_type": "code",
   "execution_count": 174,
   "metadata": {},
   "outputs": [
    {
     "data": {
      "text/plain": [
       "0    5124\n",
       "1    2960\n",
       "Name: label, dtype: int64"
      ]
     },
     "execution_count": 174,
     "metadata": {},
     "output_type": "execute_result"
    }
   ],
   "source": [
    "df['label'].value_counts()"
   ]
  },
  {
   "cell_type": "code",
   "execution_count": 175,
   "metadata": {},
   "outputs": [],
   "source": [
    "# save dataset\n",
    "df[['dataset', 'text', 'label', 'multilabel']].to_csv(\n",
    "    './datasets/hateXplain.csv', index=False)\n"
   ]
  },
  {
   "attachments": {},
   "cell_type": "markdown",
   "metadata": {},
   "source": [
    "#  Offense Eval (e)\n",
    "- Alt title: Predicting the Type and Target of Offensive Posts in Social Media\n",
    "- only training available"
   ]
  },
  {
   "cell_type": "code",
   "execution_count": 53,
   "metadata": {},
   "outputs": [],
   "source": [
    "df = pd.read_csv('./new_datasets/Predicting the Type and Target of Offensive Posts in Social Media/offenseval-training-v1.tsv', sep='\\t')"
   ]
  },
  {
   "cell_type": "code",
   "execution_count": 54,
   "metadata": {},
   "outputs": [],
   "source": [
    "# clean text\n",
    "df['text'] = df['tweet'].apply(preprocess)"
   ]
  },
  {
   "cell_type": "code",
   "execution_count": 55,
   "metadata": {},
   "outputs": [],
   "source": [
    "# consider hatesppech only cases where subtask_c = GRP, i.e. offensive targeted to group\n",
    "df['label'] = df.apply(lambda x: HATE if x['subtask_a'] == 'OFF' and x['subtask_c'] == 'GRP' else NOT_HATE, axis=1)\n",
    "\n",
    "df['multilabel'] = None\n",
    "df['dataset'] = 'e'"
   ]
  },
  {
   "cell_type": "code",
   "execution_count": 56,
   "metadata": {},
   "outputs": [
    {
     "data": {
      "text/plain": [
       "(array([0, 1]), array([None], dtype=object))"
      ]
     },
     "execution_count": 56,
     "metadata": {},
     "output_type": "execute_result"
    }
   ],
   "source": [
    "df['label'].unique(), df['multilabel'].unique()"
   ]
  },
  {
   "cell_type": "code",
   "execution_count": 57,
   "metadata": {},
   "outputs": [],
   "source": [
    "# save dataset \n",
    "df[['dataset', 'text', 'label', 'multilabel']].to_csv(\n",
    "    './datasets/offense_eval.csv', index=False)\n"
   ]
  },
  {
   "attachments": {},
   "cell_type": "markdown",
   "metadata": {},
   "source": [
    "# Automated Hate Speech Detection and the Problem of Offensive Language (f)\n",
    "\n",
    "  - 0 - hate speech\n",
    "  - 1 - offensive  language\n",
    "  - 2 - neither"
   ]
  },
  {
   "cell_type": "code",
   "execution_count": 58,
   "metadata": {},
   "outputs": [],
   "source": [
    "df = pd.read_csv('./new_datasets/Automated Hate Speech Detection and the Problem of Offensive Language/labeled_data.csv')"
   ]
  },
  {
   "cell_type": "code",
   "execution_count": 59,
   "metadata": {},
   "outputs": [],
   "source": [
    "# clean text\n",
    "df['text'] = df[f'tweet'].apply(preprocess)\n",
    "\n",
    "# we ingore offensive\n",
    "df = df[df['class'].isin([0,2])]\n",
    "\n",
    "# map labels\n",
    "df['label'] = df['class'].replace({2:NOT_HATE, 0:HATE})\n",
    "df['multilabel'] = None\n",
    "df['dataset'] = 'f'\n"
   ]
  },
  {
   "cell_type": "code",
   "execution_count": 60,
   "metadata": {},
   "outputs": [
    {
     "data": {
      "text/plain": [
       "5593"
      ]
     },
     "execution_count": 60,
     "metadata": {},
     "output_type": "execute_result"
    }
   ],
   "source": [
    "len(df)"
   ]
  },
  {
   "cell_type": "code",
   "execution_count": 61,
   "metadata": {},
   "outputs": [
    {
     "data": {
      "text/plain": [
       "(array([0, 1]), array([None], dtype=object))"
      ]
     },
     "execution_count": 61,
     "metadata": {},
     "output_type": "execute_result"
    }
   ],
   "source": [
    "df['label'].unique(), df['multilabel'].unique()\n"
   ]
  },
  {
   "cell_type": "code",
   "execution_count": 62,
   "metadata": {},
   "outputs": [],
   "source": [
    "# save dataset\n",
    "df[['dataset', 'text', 'label', 'multilabel']].to_csv(\n",
    "    './datasets/automated_hate_speech.csv', index=False)\n"
   ]
  },
  {
   "attachments": {},
   "cell_type": "markdown",
   "metadata": {},
   "source": [
    "#  Hateful Symbols or Hateful People? Predictive Features for Hate Speech Detection on Twitter (g)\n",
    "\n",
    "- HAVE TO SCRAP TWEETS\n",
    "- overlap with h"
   ]
  },
  {
   "cell_type": "code",
   "execution_count": 302,
   "metadata": {},
   "outputs": [],
   "source": [
    "df = pd.read_csv('./new_datasets/Hateful Symbols or Hateful People? Predictive Features for Hate Speech Detection on Twitter/NAACL_SRW_2016.csv', header=None)\n",
    "df.columns = ['id', 'label']\n"
   ]
  },
  {
   "cell_type": "code",
   "execution_count": 303,
   "metadata": {},
   "outputs": [
    {
     "data": {
      "text/plain": [
       "16907"
      ]
     },
     "execution_count": 303,
     "metadata": {},
     "output_type": "execute_result"
    }
   ],
   "source": [
    "len(df)"
   ]
  },
  {
   "cell_type": "code",
   "execution_count": 304,
   "metadata": {},
   "outputs": [
    {
     "data": {
      "text/plain": [
       "16849"
      ]
     },
     "execution_count": 304,
     "metadata": {},
     "output_type": "execute_result"
    }
   ],
   "source": [
    "df = df.drop_duplicates(subset='id')\n",
    "len(df)"
   ]
  },
  {
   "cell_type": "markdown",
   "metadata": {},
   "source": [
    "## Get tweets for (g)"
   ]
  },
  {
   "cell_type": "code",
   "execution_count": 305,
   "metadata": {},
   "outputs": [
    {
     "data": {
      "text/plain": [
       "16849"
      ]
     },
     "execution_count": 305,
     "metadata": {},
     "output_type": "execute_result"
    }
   ],
   "source": [
    "tweet_ids = df['id'].values\n",
    "len(tweet_ids)"
   ]
  },
  {
   "cell_type": "code",
   "execution_count": 306,
   "metadata": {},
   "outputs": [],
   "source": [
    "# client = Twarc2(bearer_token=BEARER_TOKEN)\n",
    "\n",
    "# # we loop because we get a 401 error on some ids\n",
    "# error_ids = []\n",
    "# step = 100\n",
    "# for idx in range(0, len(tweet_ids), step):\n",
    "#     step_ids = tweet_ids[idx:idx+step]\n",
    "#     #print(idx, step+idx)\n",
    "\n",
    "#     try:\n",
    "#         search_results = client.tweet_lookup(step_ids) \n",
    "#         file_name = \"./new_datasets/Hateful Symbols or Hateful People? Predictive Features for Hate Speech Detection on Twitter/NAACL_SRW_2016_raw-tweets.json\"\n",
    "\n",
    "#         # Twarc returns all Tweets for the criteria set above, so we page through the results\n",
    "#         for page in search_results:\n",
    "#             # The Twitter API v2 returns the Tweet information and the user, media etc.  separately\n",
    "#             # so we use expansions.flatten to get all the information in a single JSON\n",
    "#             result = expansions.flatten(page)\n",
    "#             # We will open the file and append one JSON object per new line\n",
    "#             with open(file_name, 'a+') as filehandle:\n",
    "#                 for tweet in result:\n",
    "#                     filehandle.write('%s\\n' % json.dumps(tweet))\n",
    "#     except:\n",
    "#         error_ids.append(step_ids)                    \n"
   ]
  },
  {
   "cell_type": "code",
   "execution_count": 307,
   "metadata": {},
   "outputs": [],
   "source": [
    "# len(error_ids)"
   ]
  },
  {
   "cell_type": "code",
   "execution_count": 308,
   "metadata": {},
   "outputs": [],
   "source": [
    "# read raw tweets\n",
    "tweets = pd.read_json('./new_datasets/Hateful Symbols or Hateful People? Predictive Features for Hate Speech Detection on Twitter/NAACL_SRW_2016_raw-tweets.json', lines=True)\n",
    "tweets = tweets[['id', 'text']]"
   ]
  },
  {
   "cell_type": "code",
   "execution_count": 309,
   "metadata": {},
   "outputs": [
    {
     "data": {
      "text/plain": [
       "10014"
      ]
     },
     "execution_count": 309,
     "metadata": {},
     "output_type": "execute_result"
    }
   ],
   "source": [
    "len(tweets)"
   ]
  },
  {
   "cell_type": "code",
   "execution_count": 310,
   "metadata": {},
   "outputs": [],
   "source": [
    "# map text\n",
    "tweets = tweets.set_index('id')\n",
    "df = df.set_index('id')\n",
    "\n",
    "df['text'] = tweets['text']\n",
    "df = df.reset_index()"
   ]
  },
  {
   "cell_type": "code",
   "execution_count": 311,
   "metadata": {},
   "outputs": [
    {
     "data": {
      "text/plain": [
       "7133"
      ]
     },
     "execution_count": 311,
     "metadata": {},
     "output_type": "execute_result"
    }
   ],
   "source": [
    "df = df[df['text'].notnull()]\n",
    "len(df)"
   ]
  },
  {
   "cell_type": "code",
   "execution_count": 312,
   "metadata": {},
   "outputs": [
    {
     "name": "stderr",
     "output_type": "stream",
     "text": [
      "<ipython-input-312-e7d4970c92b1>:2: DtypeWarning: Columns (47,48,49,50,51,52,53,54,55,56,57,58,59,60,61,62,63,64,65,66,67,68,69,70,71,72,73,74,75,76,77,78,79,80,81,82,83,84,85,86,87,88,89,90,91,92,93,94,95,96,97,98,99,100,101,102,103,104,105,106,107,108,109,110,111,112,113,114,115,116,117,118,119,120,121,122,123,124,125,126,127,128,129,130,131,132,133,134,135,136,137,138,139,140,141,142,143,144,145,146,147,148,149,150,151,152,153,154,155,156,157,158,159,160,161,162,163,164,165,166,167,168,169,170,171,172,173,174,175,176,177,178,179,180,181,182,183,184,185,186,187,188,189,190,191,192,193,194,195,196,197,198,199,200,201,202,203,204,205,206,207,208,209,210,211,212,213,214,215,216,217,218,219,220,221,222,223,224,225,226,227,228,229,230,231,232,233,234,235,236,237,238,239,240,241,242,243,244,245,246,247,248,249,250,251,252,253,254,255,256,257,258,259,260,261,262,263,264,265,266,267,268,269,270,271,272,273,274,275,276,277,278,279,280,281,282,283,284,285,286,287,288,289,290,291,292,293,294,295,296,297,298,299,300,301,302,303,304,305,306,307,308,309,310,311,312,313,314,315,316,317,318,319,320,321,322,323,324,325,326,327,328,329,330,331,332,333,334,335,336,337,338,339,340,341,342,343,344,345,346,347,348,349,350,351,352,353,354,355,356,357,358,359,360,361,362,363,364,365,366,367,368,369,370,371,372,373,374,375,376,377,378,379,380,381,382,383,384,385,386,387,388,389,390,391,392,393,394,395,396,397,398,399,400,401,402,403,404,405,406,407,408,409,410,411,412,413,414,415,416,417,418,419,420,421,422,423,424,425,426,427,428,429,430,431,432,433,434,435,436,437,438,439,440,441,442,443,444,445,446,447,448,449,450,451,452,453,454,455,456,457,458,459,460,461,462,463,464,465,466,467,468,469,470,471,472,473,474,475,476,477,478,479,480,481,482,483,484,485,486,487,488,489,490,491,492,493,494,495,496,497,498,499,500,501,502,503,504,505,506,507,508,509,510,511,512,513,514,515,516,517,518,519,520,521,522,523,524,525,526,527,528,529,530,531,532,533,534,535,536,537,538,539,540,541,542,543,544,545,546,547,548,549,550,551,552,553,554,555,556,557,558,559,560,561,562,563,564,565,566,567,568,569,570,571,572,573,574,575,576,577,578,579,580,581,582,583,584,585,586,587,588,589,590,591,592,593,594,595,596,597,598,599,600,601,602,603,604,605,606,607,608,609,610,611,612,613,614,615,616,617,618,619,620,621,622,623,624,625,626,627,628,629,630,631,632,633,634,635,636,637,638,639,640,641,642,643,644,645,646,647,648,649,650,651,652,653,654,655,656,657,658,659,660,661,662,663,664,665,666,667,668,669,670,671,672,673,674,675,676,677,678,679,680,681,682,683,684,685,686,687,688,689,690,691,692,693,694,695,696,697,698,699,700,701,702,703,704,705,706,707,708,709,710,711,712,713,714,715,716,717,718,719,720,721,722,723,724,725,726,727,728,729,730,731,732,733,734,735,736,737,738,739,740,741,742,743,744,745,746,747,748,749,750,751,752,753,754,755,756,757,758,759,760,761,762,763,764,765,766,767,768,769,770,771,772,773,774,775,776,777,778,779,780,781,782,783,784,785,786,787,788,789,790,791,792,793,794,795,796,797,798,799,800,801,802,803,804,805,806,807,808,809,810,811,812,813,814,815,816,817,818,819,820,821,822,823,824,825,826,827,828,829,830,831,832,833,834,835,836,837,838,839,840,841,842,843,844,845,846,847,848,849,850,851,852,853,854,855,856,857,858,859,860,861,862,863,864,865,866,867,868,869,870,871,872,873,874,875,876,877,878,879,880,881,882,883,884,885,886,887,888,889,890,891,892,893,894,895,896,897,898,899,900,901,902,903,904,905,906,907,908,909,910,911,912,913,914,915,916,917,918,919,920,921,922,923,924,925,926,927,928,929,930,931,932,933,934,935,936,937,938,939,940,941,942,943,944,945,946,947,948,949,950,951,952,953,954,955,956,957,958,959,960,961,962,963,964,965,966,967,968,969,970,971,972,973,974,975,976,977,978,979,980,981,982,983,984,985,986,987,988,989,990,991,992,993,994,995,996,997,998,999,1000,1001,1002,1003,1004,1005,1006,1007,1008,1009,1010,1011,1012,1013,1014,1015,1016,1017,1018,1019,1020,1021,1022,1023,1024,1025,1026,1027,1028,1029,1030,1031,1032,1033,1034,1035,1036,1037,1038,1039,1040,1041,1042,1043,1044,1045,1046,1047,1048,1049,1050,1051,1052,1053,1054,1055,1056,1057,1058,1059,1060,1061,1062,1063,1064,1065,1066,1067,1068,1069,1070,1071,1072,1073,1074,1075,1076,1077,1078,1079,1080,1081,1082,1083,1084,1085,1086,1087,1088,1089,1090,1091) have mixed types. Specify dtype option on import or set low_memory=False.\n",
      "  df_h = pd.read_csv(\n"
     ]
    }
   ],
   "source": [
    "# read tweets from (h) and remove overlap\n",
    "df_h = pd.read_csv(\n",
    "    './new_datasets/Hateful Symbols or Hateful People? Predictive Features for Hate Speech Detection on Twitter/NLP+CSS_2016.csv', sep='\\t')\n",
    "df_h = df_h.index"
   ]
  },
  {
   "cell_type": "code",
   "execution_count": 313,
   "metadata": {},
   "outputs": [
    {
     "data": {
      "text/plain": [
       "4492"
      ]
     },
     "execution_count": 313,
     "metadata": {},
     "output_type": "execute_result"
    }
   ],
   "source": [
    "# remove ids present in (h)\n",
    "df = df[~df['id'].isin(df_h)]\n",
    "len(df)"
   ]
  },
  {
   "cell_type": "code",
   "execution_count": 314,
   "metadata": {},
   "outputs": [],
   "source": [
    "# clean text\n",
    "df['text'] = df['text'].apply(preprocess)"
   ]
  },
  {
   "cell_type": "code",
   "execution_count": 315,
   "metadata": {},
   "outputs": [],
   "source": [
    "# map labels\n",
    "df['multilabel'] = df['label']\n",
    "df['label'] = df['label'].replace({'racism':HATE, 'sexism':HATE, 'none':NOT_HATE})"
   ]
  },
  {
   "cell_type": "code",
   "execution_count": 316,
   "metadata": {},
   "outputs": [],
   "source": [
    "# fix for not saving properly\n",
    "df['text'] = df['text'].apply(lambda x: x.replace(\"\\n\", \" \"))"
   ]
  },
  {
   "cell_type": "code",
   "execution_count": 317,
   "metadata": {},
   "outputs": [
    {
     "data": {
      "text/plain": [
       "(array([1, 0]), array(['racism', 'sexism', 'none'], dtype=object), 4492)"
      ]
     },
     "execution_count": 317,
     "metadata": {},
     "output_type": "execute_result"
    }
   ],
   "source": [
    "df['label'].unique(), df['multilabel'].unique(), len(df)\n"
   ]
  },
  {
   "cell_type": "code",
   "execution_count": 318,
   "metadata": {},
   "outputs": [],
   "source": [
    "# TODO: problem with saving correctly (at lines 709-710). have to manuall fix\n",
    "# save dataset\n",
    "df['dataset'] = 'g'\n",
    "df[['dataset', 'text', 'label', 'multilabel']].to_csv(\n",
    "    './datasets/hateful-symbols_or_hateful-people.csv', index=False)\n"
   ]
  },
  {
   "attachments": {},
   "cell_type": "markdown",
   "metadata": {},
   "source": [
    "# Are You a Racist or Am I Seeing Things? (h)\n",
    "- Have to scrap tweets\n",
    "- overlap with (g)"
   ]
  },
  {
   "cell_type": "code",
   "execution_count": 79,
   "metadata": {},
   "outputs": [
    {
     "name": "stderr",
     "output_type": "stream",
     "text": [
      "<ipython-input-79-b1fb9d379056>:1: DtypeWarning: Columns (47,48,49,50,51,52,53,54,55,56,57,58,59,60,61,62,63,64,65,66,67,68,69,70,71,72,73,74,75,76,77,78,79,80,81,82,83,84,85,86,87,88,89,90,91,92,93,94,95,96,97,98,99,100,101,102,103,104,105,106,107,108,109,110,111,112,113,114,115,116,117,118,119,120,121,122,123,124,125,126,127,128,129,130,131,132,133,134,135,136,137,138,139,140,141,142,143,144,145,146,147,148,149,150,151,152,153,154,155,156,157,158,159,160,161,162,163,164,165,166,167,168,169,170,171,172,173,174,175,176,177,178,179,180,181,182,183,184,185,186,187,188,189,190,191,192,193,194,195,196,197,198,199,200,201,202,203,204,205,206,207,208,209,210,211,212,213,214,215,216,217,218,219,220,221,222,223,224,225,226,227,228,229,230,231,232,233,234,235,236,237,238,239,240,241,242,243,244,245,246,247,248,249,250,251,252,253,254,255,256,257,258,259,260,261,262,263,264,265,266,267,268,269,270,271,272,273,274,275,276,277,278,279,280,281,282,283,284,285,286,287,288,289,290,291,292,293,294,295,296,297,298,299,300,301,302,303,304,305,306,307,308,309,310,311,312,313,314,315,316,317,318,319,320,321,322,323,324,325,326,327,328,329,330,331,332,333,334,335,336,337,338,339,340,341,342,343,344,345,346,347,348,349,350,351,352,353,354,355,356,357,358,359,360,361,362,363,364,365,366,367,368,369,370,371,372,373,374,375,376,377,378,379,380,381,382,383,384,385,386,387,388,389,390,391,392,393,394,395,396,397,398,399,400,401,402,403,404,405,406,407,408,409,410,411,412,413,414,415,416,417,418,419,420,421,422,423,424,425,426,427,428,429,430,431,432,433,434,435,436,437,438,439,440,441,442,443,444,445,446,447,448,449,450,451,452,453,454,455,456,457,458,459,460,461,462,463,464,465,466,467,468,469,470,471,472,473,474,475,476,477,478,479,480,481,482,483,484,485,486,487,488,489,490,491,492,493,494,495,496,497,498,499,500,501,502,503,504,505,506,507,508,509,510,511,512,513,514,515,516,517,518,519,520,521,522,523,524,525,526,527,528,529,530,531,532,533,534,535,536,537,538,539,540,541,542,543,544,545,546,547,548,549,550,551,552,553,554,555,556,557,558,559,560,561,562,563,564,565,566,567,568,569,570,571,572,573,574,575,576,577,578,579,580,581,582,583,584,585,586,587,588,589,590,591,592,593,594,595,596,597,598,599,600,601,602,603,604,605,606,607,608,609,610,611,612,613,614,615,616,617,618,619,620,621,622,623,624,625,626,627,628,629,630,631,632,633,634,635,636,637,638,639,640,641,642,643,644,645,646,647,648,649,650,651,652,653,654,655,656,657,658,659,660,661,662,663,664,665,666,667,668,669,670,671,672,673,674,675,676,677,678,679,680,681,682,683,684,685,686,687,688,689,690,691,692,693,694,695,696,697,698,699,700,701,702,703,704,705,706,707,708,709,710,711,712,713,714,715,716,717,718,719,720,721,722,723,724,725,726,727,728,729,730,731,732,733,734,735,736,737,738,739,740,741,742,743,744,745,746,747,748,749,750,751,752,753,754,755,756,757,758,759,760,761,762,763,764,765,766,767,768,769,770,771,772,773,774,775,776,777,778,779,780,781,782,783,784,785,786,787,788,789,790,791,792,793,794,795,796,797,798,799,800,801,802,803,804,805,806,807,808,809,810,811,812,813,814,815,816,817,818,819,820,821,822,823,824,825,826,827,828,829,830,831,832,833,834,835,836,837,838,839,840,841,842,843,844,845,846,847,848,849,850,851,852,853,854,855,856,857,858,859,860,861,862,863,864,865,866,867,868,869,870,871,872,873,874,875,876,877,878,879,880,881,882,883,884,885,886,887,888,889,890,891,892,893,894,895,896,897,898,899,900,901,902,903,904,905,906,907,908,909,910,911,912,913,914,915,916,917,918,919,920,921,922,923,924,925,926,927,928,929,930,931,932,933,934,935,936,937,938,939,940,941,942,943,944,945,946,947,948,949,950,951,952,953,954,955,956,957,958,959,960,961,962,963,964,965,966,967,968,969,970,971,972,973,974,975,976,977,978,979,980,981,982,983,984,985,986,987,988,989,990,991,992,993,994,995,996,997,998,999,1000,1001,1002,1003,1004,1005,1006,1007,1008,1009,1010,1011,1012,1013,1014,1015,1016,1017,1018,1019,1020,1021,1022,1023,1024,1025,1026,1027,1028,1029,1030,1031,1032,1033,1034,1035,1036,1037,1038,1039,1040,1041,1042,1043,1044,1045,1046,1047,1048,1049,1050,1051,1052,1053,1054,1055,1056,1057,1058,1059,1060,1061,1062,1063,1064,1065,1066,1067,1068,1069,1070,1071,1072,1073,1074,1075,1076,1077,1078,1079,1080,1081,1082,1083,1084,1085,1086,1087,1088,1089,1090,1091) have mixed types. Specify dtype option on import or set low_memory=False.\n",
      "  df = pd.read_csv(\n"
     ]
    }
   ],
   "source": [
    "df = pd.read_csv(\n",
    "    './new_datasets/Hateful Symbols or Hateful People? Predictive Features for Hate Speech Detection on Twitter/NLP+CSS_2016.csv', sep='\\t')\n"
   ]
  },
  {
   "cell_type": "code",
   "execution_count": 80,
   "metadata": {},
   "outputs": [],
   "source": [
    "cols = ['TweetID', 'Expert', 'Amateur_0', 'Amateur_1']\n",
    "df = df[cols]\n",
    "df = df.reset_index()\n",
    "\n",
    "df.columns = ['id', 'Expert', 'Amateur_0', 'Amateur_1', 'Amateur_2']"
   ]
  },
  {
   "cell_type": "markdown",
   "metadata": {},
   "source": [
    "## Getting tweets for (h)"
   ]
  },
  {
   "cell_type": "code",
   "execution_count": 81,
   "metadata": {},
   "outputs": [],
   "source": [
    "tweet_ids = df['id'].values"
   ]
  },
  {
   "cell_type": "code",
   "execution_count": 82,
   "metadata": {},
   "outputs": [],
   "source": [
    "# client = Twarc2(bearer_token=BEARER_TOKEN)\n",
    "\n",
    "# search_results = client.tweet_lookup(tweet_ids) \n",
    "# file_name = \"./new_datasets/Hateful Symbols or Hateful People? Predictive Features for Hate Speech Detection on Twitter/NLP+CSS_2016_raw-tweets.json\"\n",
    "\n",
    "# # Twarc returns all Tweets for the criteria set above, so we page through the results\n",
    "# for page in search_results:\n",
    "#     # The Twitter API v2 returns the Tweet information and the user, media etc.  separately\n",
    "#     # so we use expansions.flatten to get all the information in a single JSON\n",
    "#     result = expansions.flatten(page)\n",
    "#     # We will open the file and append one JSON object per new line\n",
    "#     with open(file_name, 'a+') as filehandle:\n",
    "#         for tweet in result:\n",
    "#             filehandle.write('%s\\n' % json.dumps(tweet))\n",
    "            \n"
   ]
  },
  {
   "cell_type": "code",
   "execution_count": 83,
   "metadata": {},
   "outputs": [],
   "source": [
    "# read tweets scrapped\n",
    "tweets = pd.read_json('./new_datasets/Hateful Symbols or Hateful People? Predictive Features for Hate Speech Detection on Twitter/NLP+CSS_2016_raw-tweets.json', lines=True)\n",
    "tweets = tweets[['id','text']]"
   ]
  },
  {
   "cell_type": "code",
   "execution_count": 84,
   "metadata": {},
   "outputs": [],
   "source": [
    "# map text to tweets\n",
    "df = df.set_index('id')\n",
    "tweets = tweets.set_index('id')\n",
    "\n",
    "df['text'] = tweets['text']\n",
    "df = df.reset_index()"
   ]
  },
  {
   "cell_type": "code",
   "execution_count": 85,
   "metadata": {},
   "outputs": [],
   "source": [
    "# ignore tweets with no text\n",
    "df = df[df['text'].notnull()]"
   ]
  },
  {
   "cell_type": "code",
   "execution_count": 86,
   "metadata": {},
   "outputs": [],
   "source": [
    "# OLD WAY: CONSIDERING ONLY EXPERT\n",
    "# # we consider the label provided by the Expert\n",
    "# df['label'] = df['Expert']\n",
    "# df['label'] = df['label'].replace({'neither':NOT_HATE, 'sexism':HATE,\n",
    "#                                     'both':HATE, 'racism':HATE}\n",
    "#                                 )\n",
    "# # arbitary map \"both\" to \"racism\"\n",
    "# df['multilabel'] = df['Expert'].replace({\"both\":\"racism\"})\n",
    "\n",
    "# NEW Way: at least two coders\n",
    "def majority_rule_class(col):\n",
    "    results_class = defaultdict(lambda: 0)\n",
    "    for annotator in [\"Expert\", \"Amateur_0\", \"Amateur_1\", \"Amateur_2\"]:\n",
    "        results_class[col[annotator]] += 1\n",
    "\n",
    "    majority_class = max(results_class, key=results_class.get)\n",
    "\n",
    "    # at least two coders agree\n",
    "    if results_class[majority_class] >= 2:\n",
    "        return majority_class\n",
    "    else:\n",
    "        return None\n",
    "\n",
    "\n",
    "df['label'] = df.apply(majority_rule_class, axis=1)\n",
    "df['multilabel'] = df['label']\n",
    "df['label'] = df['label'].replace({'neither': NOT_HATE, 'sexism': HATE, 'both':HATE, 'racism':HATE, 'link':None})\n"
   ]
  },
  {
   "cell_type": "code",
   "execution_count": 87,
   "metadata": {},
   "outputs": [],
   "source": [
    "# clean text\n",
    "df['text'] = df['text'].apply(preprocess)"
   ]
  },
  {
   "cell_type": "code",
   "execution_count": 88,
   "metadata": {},
   "outputs": [
    {
     "data": {
      "text/plain": [
       "4114"
      ]
     },
     "execution_count": 88,
     "metadata": {},
     "output_type": "execute_result"
    }
   ],
   "source": [
    "# ignore nan\n",
    "df = df[df['label'].notnull()]\n",
    "len(df)"
   ]
  },
  {
   "cell_type": "code",
   "execution_count": 89,
   "metadata": {},
   "outputs": [
    {
     "data": {
      "text/plain": [
       "(array([0., 1.]), array(['neither', 'sexism', 'both', 'racism'], dtype=object))"
      ]
     },
     "execution_count": 89,
     "metadata": {},
     "output_type": "execute_result"
    }
   ],
   "source": [
    "df['label'].unique(), df['multilabel'].unique()\n"
   ]
  },
  {
   "cell_type": "code",
   "execution_count": 90,
   "metadata": {},
   "outputs": [],
   "source": [
    "# save dataset\n",
    "df['dataset'] = 'h'\n",
    "df[['dataset', 'text', 'label', 'multilabel']].to_csv(\n",
    "    './datasets/are_you_racist_or.csv', index=False)\n"
   ]
  },
  {
   "attachments": {},
   "cell_type": "markdown",
   "metadata": {},
   "source": [
    "# When Does a Compliment Become Sexist? Analysis and Classification of Ambivalent Sexism Using Twitter Data (i)\n",
    "- included in Call me sexist but (b)\n",
    "- possible different annotations?\n",
    "- can be found in either dataset='benevolent' or dataset='other'"
   ]
  },
  {
   "cell_type": "code",
   "execution_count": 91,
   "metadata": {},
   "outputs": [],
   "source": [
    "# df_i = pd.read_csv('/home/dimos/Desktop/phd/hate_speech/new_datasets/When Does a Compliment Become Sexist/hostile_sexist.tsv')"
   ]
  },
  {
   "cell_type": "code",
   "execution_count": 92,
   "metadata": {},
   "outputs": [],
   "source": [
    "# df_b[df_b['text'].str.contains('These two are revolting')]"
   ]
  },
  {
   "cell_type": "markdown",
   "metadata": {},
   "source": [
    "# Overview of the Task on Automatic Misogyny Identification at IberEval 2018 (j)\n",
    "\n",
    "- datasets are password protected"
   ]
  },
  {
   "cell_type": "markdown",
   "metadata": {},
   "source": [
    "# Multilingual and Multi-Aspect Hate Speech Analysis (English) (k)"
   ]
  },
  {
   "cell_type": "code",
   "execution_count": 374,
   "metadata": {},
   "outputs": [],
   "source": [
    "df = pd.read_csv('new_datasets/Multilingual and Multi-Aspect Hate Speech Analysis/en_dataset.csv')"
   ]
  },
  {
   "cell_type": "code",
   "execution_count": 375,
   "metadata": {},
   "outputs": [
    {
     "data": {
      "text/plain": [
       "5647"
      ]
     },
     "execution_count": 375,
     "metadata": {},
     "output_type": "execute_result"
    }
   ],
   "source": [
    "len(df)"
   ]
  },
  {
   "cell_type": "code",
   "execution_count": 376,
   "metadata": {},
   "outputs": [
    {
     "data": {
      "text/plain": [
       "array(['origin', 'disability', 'gender', 'sexual_orientation', 'other',\n",
       "       'religion'], dtype=object)"
      ]
     },
     "execution_count": 376,
     "metadata": {},
     "output_type": "execute_result"
    }
   ],
   "source": [
    "df['target'].unique()"
   ]
  },
  {
   "cell_type": "code",
   "execution_count": 377,
   "metadata": {},
   "outputs": [
    {
     "data": {
      "text/plain": [
       "array(['gay', 'special_needs', 'other', 'women', 'left_wing_people',\n",
       "       'individual', 'immigrants', 'jews', 'muslims', 'refugees',\n",
       "       'african_descent', 'indian/hindu', 'hispanics', 'asians',\n",
       "       'christian', 'arabs'], dtype=object)"
      ]
     },
     "execution_count": 377,
     "metadata": {},
     "output_type": "execute_result"
    }
   ],
   "source": [
    "df['group'].unique()"
   ]
  },
  {
   "cell_type": "code",
   "execution_count": 378,
   "metadata": {},
   "outputs": [],
   "source": [
    "# map origin to group as it is more clear\n",
    "df.loc[df[df['target'] == 'origin'].index, 'target'] = df.loc[df[df['target'] == 'origin'].index]['group']\n"
   ]
  },
  {
   "cell_type": "code",
   "execution_count": 379,
   "metadata": {},
   "outputs": [],
   "source": [
    "# map labels\n",
    "def get_label(sentiment):\n",
    "    if \"hate\" in sentiment:\n",
    "        label = \"hate\"\n",
    "    elif \"normal\" == sentiment:\n",
    "        label = \"normal\"\n",
    "    else:\n",
    "        label = None\n",
    "    return label\n",
    "\n",
    "df['label'] = df['sentiment'].apply(get_label)"
   ]
  },
  {
   "cell_type": "code",
   "execution_count": 380,
   "metadata": {},
   "outputs": [],
   "source": [
    "df = df[df['label'].notnull()]\n",
    "df['multilabel'] = df['target']\n",
    "\n",
    "# set multilabel to None if not hatespeech\n",
    "df.loc[df[df['label'] == \"normal\"].index, 'multilabel'] = None"
   ]
  },
  {
   "cell_type": "code",
   "execution_count": 381,
   "metadata": {},
   "outputs": [],
   "source": [
    "# normalise text\n",
    "df['text'] = df['tweet'].apply(preprocess)"
   ]
  },
  {
   "cell_type": "code",
   "execution_count": 382,
   "metadata": {},
   "outputs": [
    {
     "data": {
      "text/plain": [
       "1    1278\n",
       "0     661\n",
       "Name: label, dtype: int64"
      ]
     },
     "execution_count": 382,
     "metadata": {},
     "output_type": "execute_result"
    }
   ],
   "source": [
    "# map labels\n",
    "df['label']  = df['label'].replace({'normal':NOT_HATE, 'hate':HATE})\n",
    "\n",
    "df['dataset'] = 'k'\n",
    "\n",
    "df['label'].value_counts()"
   ]
  },
  {
   "cell_type": "code",
   "execution_count": 383,
   "metadata": {},
   "outputs": [
    {
     "data": {
      "text/plain": [
       "(array([1, 0]),\n",
       " array(['disability', 'other', None, 'gender', 'individual',\n",
       "        'sexual_orientation', 'african_descent', 'immigrants', 'gay',\n",
       "        'special_needs', 'refugees', 'jews', 'hispanics', 'women',\n",
       "        'left_wing_people', 'indian/hindu', 'muslims', 'religion',\n",
       "        'asians', 'arabs', 'christian'], dtype=object))"
      ]
     },
     "execution_count": 383,
     "metadata": {},
     "output_type": "execute_result"
    }
   ],
   "source": [
    "df['label'].unique(), df['multilabel'].unique()\n"
   ]
  },
  {
   "cell_type": "code",
   "execution_count": 384,
   "metadata": {},
   "outputs": [],
   "source": [
    "# save dataset\n",
    "df[['dataset', 'text', 'label', 'multilabel']].to_csv(\n",
    "    './datasets/multilingual_and_multi_aspect.csv', index=False)\n"
   ]
  },
  {
   "cell_type": "markdown",
   "metadata": {},
   "source": [
    "# Exploring Hate Speech Detection in Multimodal Publications (l)\n",
    "\n",
    "- multimodal both text & image\n"
   ]
  },
  {
   "cell_type": "markdown",
   "metadata": {},
   "source": [
    "# hatEval, SemEval-2019 Task 5: Multilingual Detection of Hate Speech Against Immigrants and Women in Twitter (English) (m)"
   ]
  },
  {
   "cell_type": "code",
   "execution_count": 347,
   "metadata": {},
   "outputs": [],
   "source": [
    "def format_file(text_f, label_f):\n",
    "    with open(text_f) as f:\n",
    "        text = f.readlines()\n",
    "        text = [x.strip('\\n') for x in text]\n",
    "\n",
    "    with open(label_f) as f:\n",
    "        labels = f.readlines()\n",
    "        labels = [int(x.strip('\\n')) for x in labels]\n",
    "\n",
    "    data = [(i,z) for i,z in zip(text,labels)]\n",
    "\n",
    "    data = pd.DataFrame(data, columns=['text', 'label'])\n",
    "    return data"
   ]
  },
  {
   "cell_type": "code",
   "execution_count": 348,
   "metadata": {},
   "outputs": [],
   "source": [
    "df_train = format_file('./new_datasets/hatEval semEval-2019/train_text.txt', \n",
    "            './new_datasets/hatEval semEval-2019/train_labels.txt')\n",
    "df_train['split'] = \"train\"\n",
    "df_test = format_file('./new_datasets/hatEval semEval-2019/test_text.txt', \n",
    "            './new_datasets/hatEval semEval-2019/test_labels.txt')\n",
    "df_test['split'] = \"test\"\n",
    "df_val = format_file('./new_datasets/hatEval semEval-2019/val_text.txt', \n",
    "            './new_datasets/hatEval semEval-2019/val_labels.txt')\n",
    "df_val['split'] = \"val\""
   ]
  },
  {
   "cell_type": "code",
   "execution_count": 349,
   "metadata": {},
   "outputs": [
    {
     "data": {
      "text/plain": [
       "12970"
      ]
     },
     "execution_count": 349,
     "metadata": {},
     "output_type": "execute_result"
    }
   ],
   "source": [
    "df = pd.concat([df_train, df_test, df_val])\n",
    "len(df)"
   ]
  },
  {
   "cell_type": "code",
   "execution_count": 351,
   "metadata": {},
   "outputs": [],
   "source": [
    "# we have entries with no text. remove them\n",
    "df = df[df['text'].str.len() > 0]"
   ]
  },
  {
   "cell_type": "code",
   "execution_count": 352,
   "metadata": {},
   "outputs": [],
   "source": [
    "# clean text\n",
    "df['text'] = df['text'].apply(preprocess)\n",
    "\n",
    "# map labels\n",
    "df['label'] = df['label'].replace({0:NOT_HATE, 1:HATE})\n",
    "df['multilabel'] = None\n",
    "df['dataset'] = \"m\"\n",
    "\n",
    "# save dataset \n",
    "df[['dataset', 'split', 'text', 'label', 'multilabel']].to_csv(\n",
    "    './datasets/hatEval2019.csv', index=False)"
   ]
  },
  {
   "cell_type": "code",
   "execution_count": 353,
   "metadata": {},
   "outputs": [
    {
     "data": {
      "text/plain": [
       "(array([0, 1]), array([None], dtype=object))"
      ]
     },
     "execution_count": 353,
     "metadata": {},
     "output_type": "execute_result"
    }
   ],
   "source": [
    "df['label'].unique(), df['multilabel'].unique()\n"
   ]
  },
  {
   "cell_type": "markdown",
   "metadata": {},
   "source": [
    "# Overview of the HASOC track at FIRE 2019:Hate Speech and Offensive Content Identification in Indo-European Languages (n)\n"
   ]
  },
  {
   "cell_type": "code",
   "execution_count": 108,
   "metadata": {},
   "outputs": [],
   "source": [
    "df  = pd.read_csv('new_datasets/Overview of the HASOC track at FIRE 2019:Hate Speech and Offensive Content Identification in Indo-European Languages/english_dataset.tsv', sep='\\t')"
   ]
  },
  {
   "cell_type": "code",
   "execution_count": 109,
   "metadata": {},
   "outputs": [],
   "source": [
    "# clean text\n",
    "df['text'] = df['text'].apply(preprocess)"
   ]
  },
  {
   "cell_type": "code",
   "execution_count": 110,
   "metadata": {},
   "outputs": [],
   "source": [
    "# keep only NONE and HATE\n",
    "df = df[df['task_2'].isin(['NONE', 'HATE'])]\n",
    "df['label'] = df['task_2'].replace({'NONE':NOT_HATE, 'HATE':HATE})\n",
    "df['split'] = 'train'\n",
    "df['dataset'] = 'n'"
   ]
  },
  {
   "cell_type": "code",
   "execution_count": 111,
   "metadata": {},
   "outputs": [],
   "source": [
    "# read test data\n",
    "test = pd.read_csv('new_datasets/Overview of the HASOC track at FIRE 2019:Hate Speech and Offensive Content Identification in Indo-European Languages/hasoc2019_en_test-2919.tsv',sep='\\t')"
   ]
  },
  {
   "cell_type": "code",
   "execution_count": 112,
   "metadata": {},
   "outputs": [],
   "source": [
    "# specify test data\n",
    "test_ids = test['text_id'].values\n",
    "\n",
    "df.loc[df[df['text_id'].isin(test_ids)].index, 'split'] = 'test'\n",
    "\n",
    "df['multilabel'] = None\n"
   ]
  },
  {
   "cell_type": "code",
   "execution_count": 113,
   "metadata": {},
   "outputs": [
    {
     "data": {
      "text/plain": [
       "(array([0, 1]), array([None], dtype=object))"
      ]
     },
     "execution_count": 113,
     "metadata": {},
     "output_type": "execute_result"
    }
   ],
   "source": [
    "df['label'].unique(), df['multilabel'].unique()\n"
   ]
  },
  {
   "cell_type": "code",
   "execution_count": 114,
   "metadata": {},
   "outputs": [],
   "source": [
    "# save dataset\n",
    "df[['dataset', 'split', 'text', 'label', 'multilabel']].to_csv(\n",
    "    './datasets/hasoc_fire2019.csv', index=False)"
   ]
  },
  {
   "cell_type": "markdown",
   "metadata": {},
   "source": [
    "# Detecting East Asian Prejudice on Social Media (o)"
   ]
  },
  {
   "cell_type": "code",
   "execution_count": 115,
   "metadata": {},
   "outputs": [
    {
     "data": {
      "text/plain": [
       "20000"
      ]
     },
     "execution_count": 115,
     "metadata": {},
     "output_type": "execute_result"
    }
   ],
   "source": [
    "df = pd.read_csv('./new_datasets/Detecting East Asian Prejudice on Social Media/hs_AsianPrejudice_20kdataset_cleaned_anonymized.tsv', sep='\\t')\n",
    "len(df)"
   ]
  },
  {
   "cell_type": "code",
   "execution_count": 116,
   "metadata": {},
   "outputs": [
    {
     "data": {
      "text/plain": [
       "True"
      ]
     },
     "execution_count": 116,
     "metadata": {},
     "output_type": "execute_result"
    }
   ],
   "source": [
    "len(df) == df['id'].nunique()"
   ]
  },
  {
   "cell_type": "code",
   "execution_count": 117,
   "metadata": {},
   "outputs": [],
   "source": [
    "#  majority rule\n",
    "def majority_rule_class(col):\n",
    "    results_class = defaultdict(lambda : 0)\n",
    "    for annotator in ['annot1', 'annot2', 'expert']:\n",
    "        results_class[col[annotator]] += 1\n",
    "\n",
    "    \n",
    "    majority_class = max(results_class, key=results_class.get)\n",
    "    \n",
    "    # at least two coders agree\n",
    "    if results_class[majority_class] >= 2:\n",
    "        return majority_class\n",
    "    else:\n",
    "        return None\n",
    "\n",
    "df['label'] = df.apply(majority_rule_class, axis=1)\n"
   ]
  },
  {
   "cell_type": "code",
   "execution_count": 118,
   "metadata": {},
   "outputs": [],
   "source": [
    "# consider only none_of_the_above & entity_directed_hostility\n",
    "df = df[df['label'].isin(['none_of_the_above', 'entity_directed_hostility'])]"
   ]
  },
  {
   "cell_type": "code",
   "execution_count": 119,
   "metadata": {},
   "outputs": [],
   "source": [
    "# clean text\n",
    "df['text'] = df['text'].apply(preprocess)\n",
    "\n",
    "# map labels\n",
    "df['label'] = df['label'].replace({'none_of_the_above':NOT_HATE, 'entity_directed_hostility':HATE})\n",
    "\n",
    "\n",
    "# mutlilabel \n",
    "df['multilabel'] = None\n",
    "df.loc[df[df['label'] == HATE].index, 'multilabel'] = \"racism\"\n",
    "\n"
   ]
  },
  {
   "cell_type": "code",
   "execution_count": 120,
   "metadata": {},
   "outputs": [
    {
     "data": {
      "text/plain": [
       "(array([0, 1]), array([None, 'racism'], dtype=object))"
      ]
     },
     "execution_count": 120,
     "metadata": {},
     "output_type": "execute_result"
    }
   ],
   "source": [
    "df['label'].unique(), df['multilabel'].unique()"
   ]
  },
  {
   "cell_type": "code",
   "execution_count": 121,
   "metadata": {},
   "outputs": [],
   "source": [
    "# save dataset\n",
    "df['dataset'] = 'o'\n",
    "df['split'] = None\n",
    "df[['dataset', 'split', 'text', 'label', 'multilabel']].to_csv(\n",
    "    './datasets/east_asian_prejudice.csv', index=False)\n"
   ]
  },
  {
   "cell_type": "markdown",
   "metadata": {},
   "source": [
    "# Large Scale Crowdsourcing and Characterization of Twitter Abusive Behavior (p)"
   ]
  },
  {
   "cell_type": "code",
   "execution_count": 122,
   "metadata": {},
   "outputs": [
    {
     "name": "stderr",
     "output_type": "stream",
     "text": [
      "/home/dimosthenis/.local/lib/python3.8/site-packages/IPython/core/interactiveshell.py:3343: FutureWarning: In a future version of pandas all arguments of read_csv except for the argument 'filepath_or_buffer' will be keyword-only.\n",
      "  exec(code_obj, self.user_global_ns, self.user_ns)\n"
     ]
    }
   ],
   "source": [
    "df = pd.read_csv('new_datasets/Large Scale Crowdsourcing and Characterization of Twitter Abusive BehaviorLarge Scale Crowdsourcing and Characterization of Twitter Abusive Behavior/hatespeechtwitter.tab', '\\t')"
   ]
  },
  {
   "cell_type": "code",
   "execution_count": 123,
   "metadata": {},
   "outputs": [
    {
     "data": {
      "text/plain": [
       "array(['abusive', 'normal', 'hateful', 'spam', nan], dtype=object)"
      ]
     },
     "execution_count": 123,
     "metadata": {},
     "output_type": "execute_result"
    }
   ],
   "source": [
    "df['maj_label'].unique()"
   ]
  },
  {
   "cell_type": "code",
   "execution_count": 124,
   "metadata": {},
   "outputs": [],
   "source": [
    "# consider only \"hateful\" and \"normal\"\n",
    "df = df[df['maj_label'].isin(['hateful', 'normal'])]\n",
    "\n",
    "# take all \"hateful\" and sample the same size of \"normal\"\n",
    "hate = df[df['maj_label'] == 'hateful']\n",
    "normal = df[df['maj_label'] == 'normal']\n",
    "normal = normal.sample(n=len(hate),random_state=2)\n",
    "\n",
    "# group new sets\n",
    "df = pd.concat([hate,normal])"
   ]
  },
  {
   "cell_type": "markdown",
   "metadata": {},
   "source": [
    "## Get tweets for (p)"
   ]
  },
  {
   "cell_type": "code",
   "execution_count": 125,
   "metadata": {},
   "outputs": [
    {
     "data": {
      "text/plain": [
       "7270"
      ]
     },
     "execution_count": 125,
     "metadata": {},
     "output_type": "execute_result"
    }
   ],
   "source": [
    "tweet_ids = df['tweet_id'].values\n",
    "len(tweet_ids)"
   ]
  },
  {
   "cell_type": "code",
   "execution_count": 126,
   "metadata": {},
   "outputs": [],
   "source": [
    "# client = Twarc2(bearer_token=BEARER_TOKEN)\n",
    "\n",
    "# search_results = client.tweet_lookup(tweet_ids) \n",
    "# file_name = \"new_datasets/Large Scale Crowdsourcing and Characterization of Twitter Abusive BehaviorLarge Scale Crowdsourcing and Characterization of Twitter Abusive Behavior/hatespeechtwitter_raw-tweets.json\"\n",
    "\n",
    "# # Twarc returns all Tweets for the criteria set above, so we page through the results\n",
    "# for page in search_results:\n",
    "#     # The Twitter API v2 returns the Tweet information and the user, media etc.  separately\n",
    "#     # so we use expansions.flatten to get all the information in a single JSON\n",
    "#     result = expansions.flatten(page)\n",
    "#     # We will open the file and append one JSON object per new line\n",
    "#     with open(file_name, 'a+') as filehandle:\n",
    "#         for tweet in result:\n",
    "#             filehandle.write('%s\\n' % json.dumps(tweet))\n",
    "            \n"
   ]
  },
  {
   "cell_type": "code",
   "execution_count": 127,
   "metadata": {},
   "outputs": [],
   "source": [
    "# read tweets\n",
    "tweets = pd.read_json(\"new_datasets/Large Scale Crowdsourcing and Characterization of Twitter Abusive BehaviorLarge Scale Crowdsourcing and Characterization of Twitter Abusive Behavior/hatespeechtwitter_raw-tweets.json\", lines=True)\n",
    "# drop tweets scrapped twice\n",
    "tweets = tweets.drop_duplicates(subset='id')\n",
    "tweets = tweets[['id', 'text']]"
   ]
  },
  {
   "cell_type": "code",
   "execution_count": 128,
   "metadata": {},
   "outputs": [],
   "source": [
    "# map text to tweets\n",
    "df = df.set_index('tweet_id')\n",
    "tweets = tweets.set_index('id')\n",
    "\n",
    "df['text'] = tweets['text']\n",
    "df = df.reset_index()"
   ]
  },
  {
   "cell_type": "code",
   "execution_count": 129,
   "metadata": {},
   "outputs": [
    {
     "data": {
      "text/plain": [
       "2209"
      ]
     },
     "execution_count": 129,
     "metadata": {},
     "output_type": "execute_result"
    }
   ],
   "source": [
    "# drop tweets with no texxt\n",
    "df = df[df['text'].notnull()]\n",
    "len(df)"
   ]
  },
  {
   "cell_type": "code",
   "execution_count": 130,
   "metadata": {},
   "outputs": [],
   "source": [
    "# clean text\n",
    "df['text'] = df['text'].apply(preprocess)\n",
    "\n",
    "# map labels\n",
    "df['label'] = df['maj_label'].replace({'hateful':HATE, 'normal':NOT_HATE})\n",
    "df['multilabel'] = None\n",
    "df['split'] = None\n",
    "df['dataset'] = \"p\""
   ]
  },
  {
   "cell_type": "code",
   "execution_count": 131,
   "metadata": {},
   "outputs": [
    {
     "data": {
      "text/plain": [
       "(array([1, 0]), array([None], dtype=object))"
      ]
     },
     "execution_count": 131,
     "metadata": {},
     "output_type": "execute_result"
    }
   ],
   "source": [
    "df['label'].unique(), df['multilabel'].unique()"
   ]
  },
  {
   "cell_type": "code",
   "execution_count": 132,
   "metadata": {},
   "outputs": [],
   "source": [
    "df[['dataset', 'split', 'text', 'label', 'multilabel']].to_csv(\n",
    "    './datasets/large_scale_crowdsourcing.csv', index=False)"
   ]
  },
  {
   "cell_type": "markdown",
   "metadata": {},
   "source": [
    "# Twitter Sentiment Analysis (q)\n",
    "\n",
    "Formally, given a training sample of tweets and labels, where label '1' denotes the tweet is racist/sexist and label '0' denotes the tweet is not racist/sexist, your objective is to predict the labels on the test dataset."
   ]
  },
  {
   "cell_type": "code",
   "execution_count": 133,
   "metadata": {},
   "outputs": [],
   "source": [
    "df = pd.read_csv('./new_datasets/Twitter Sentiment Analysis/train.csv')"
   ]
  },
  {
   "cell_type": "code",
   "execution_count": 134,
   "metadata": {},
   "outputs": [],
   "source": [
    "df['text'] = df['tweet'].apply(preprocess)\n",
    "df['label'] = df['label'].replace({0: NOT_HATE, 1:HATE})\n",
    "df['multilabel'] = None\n",
    "df['split'] = 'train'\n",
    "df['dataset'] = 'q'"
   ]
  },
  {
   "cell_type": "code",
   "execution_count": 135,
   "metadata": {},
   "outputs": [
    {
     "data": {
      "text/plain": [
       "(array([0, 1]), array([None], dtype=object))"
      ]
     },
     "execution_count": 135,
     "metadata": {},
     "output_type": "execute_result"
    }
   ],
   "source": [
    "df['label'].unique(), df['multilabel'].unique()"
   ]
  },
  {
   "cell_type": "code",
   "execution_count": 136,
   "metadata": {},
   "outputs": [],
   "source": [
    "# save dataset\n",
    "df[['dataset', 'split', 'text', 'label', 'multilabel']].to_csv(\n",
    "    './datasets/twitter_sentiment_analysis.csv', index=False)"
   ]
  },
  {
   "cell_type": "code",
   "execution_count": null,
   "metadata": {},
   "outputs": [],
   "source": []
  }
 ],
 "metadata": {
  "kernelspec": {
   "display_name": "Python 3.8.10 64-bit",
   "language": "python",
   "name": "python3"
  },
  "language_info": {
   "codemirror_mode": {
    "name": "ipython",
    "version": 3
   },
   "file_extension": ".py",
   "mimetype": "text/x-python",
   "name": "python",
   "nbconvert_exporter": "python",
   "pygments_lexer": "ipython3",
   "version": "3.8.10"
  },
  "orig_nbformat": 4,
  "vscode": {
   "interpreter": {
    "hash": "31f2aee4e71d21fbe5cf8b01ff0e069b9275f58929596ceb00d14d90e3e16cd6"
   }
  }
 },
 "nbformat": 4,
 "nbformat_minor": 2
}
