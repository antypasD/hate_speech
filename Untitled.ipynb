{
 "cells": [
  {
   "cell_type": "code",
   "execution_count": 1,
   "id": "c5d592df-005b-4cc5-ab91-22fc1c86e736",
   "metadata": {},
   "outputs": [],
   "source": [
    "import pandas as pd"
   ]
  },
  {
   "cell_type": "code",
   "execution_count": 2,
   "id": "c0c5aff2-c2f0-4579-a25b-ef8e56082095",
   "metadata": {},
   "outputs": [],
   "source": [
    "df = pd.read_csv('test.csv')"
   ]
  },
  {
   "cell_type": "code",
   "execution_count": 22,
   "id": "f3adb588-ac36-4b88-9779-e4c010fda59d",
   "metadata": {},
   "outputs": [
    {
     "data": {
      "text/plain": [
       " English                            54\n",
       " Italian                             6\n",
       " Arabic                              6\n",
       " German                              5\n",
       " Hindi-English                       4\n",
       " Spanish                             3\n",
       " Greek                               3\n",
       " Indonesian                          3\n",
       " Portuguese                          3\n",
       " Danish                              2\n",
       " Croatian                            2\n",
       " Surzhyk (Russian & Ukranian)        2\n",
       " Hindi                               2\n",
       " Russian                             2\n",
       " French                              2\n",
       " Slovene                             1\n",
       " Polish                              1\n",
       " Turkish                             1\n",
       " Albanian                            1\n",
       " Latvian                             1\n",
       " Korean                              1\n",
       " Estonian (some in Russian also)     1\n",
       " Dutch                               1\n",
       " Chinese                             1\n",
       " Bengali                             1\n",
       " Urdu-English                        1\n",
       "Name: language, dtype: int64"
      ]
     },
     "execution_count": 22,
     "metadata": {},
     "output_type": "execute_result"
    }
   ],
   "source": [
    "df['language'].value_counts()"
   ]
  },
  {
   "cell_type": "code",
   "execution_count": 23,
   "id": "24db6476-f442-4059-b113-541453748454",
   "metadata": {},
   "outputs": [
    {
     "data": {
      "text/plain": [
       " Twitter                                            47\n",
       " Twitter and Facebook                                3\n",
       " Kaggle, Reddit, Facebook, Twitter and Instagram     2\n",
       " Twitter and Gab                                     2\n",
       " Twitter, Reddit, newspaper comments                 1\n",
       " Twitter, Facebook, Reddit                           1\n",
       " Twitter, Reddit, YouTube                            1\n",
       " Twitter, Social Psychology scales                   1\n",
       " Twitter, Facebook, WhatsApp                         1\n",
       "Name: platform, dtype: int64"
      ]
     },
     "execution_count": 23,
     "metadata": {},
     "output_type": "execute_result"
    }
   ],
   "source": [
    "df[df['platform'].str.contains('Twitter',case=False)]['platform'].value_counts()"
   ]
  },
  {
   "cell_type": "code",
   "execution_count": 24,
   "id": "359e0a12-1efd-4b4b-a367-5d0d0fd049a5",
   "metadata": {},
   "outputs": [],
   "source": [
    "twitter = df[df['platform'].str.contains('Twitter',case=False)]#.value_counts()"
   ]
  },
  {
   "cell_type": "code",
   "execution_count": 25,
   "id": "e560e339-abe1-4930-9cc9-7dd102eacf87",
   "metadata": {},
   "outputs": [
    {
     "data": {
      "text/plain": [
       " English          28\n",
       " Arabic            4\n",
       " German            3\n",
       " Hindi-English     3\n",
       " Indonesian        3\n",
       " Italian           3\n",
       " Spanish           3\n",
       " Danish            2\n",
       " Hindi             2\n",
       " Portuguese        2\n",
       " Dutch             1\n",
       " French            1\n",
       " Greek             1\n",
       " Polish            1\n",
       " Turkish           1\n",
       " Urdu-English      1\n",
       "Name: language, dtype: int64"
      ]
     },
     "execution_count": 25,
     "metadata": {},
     "output_type": "execute_result"
    }
   ],
   "source": [
    "twitter['language'].value_counts()"
   ]
  },
  {
   "cell_type": "code",
   "execution_count": 26,
   "id": "56179ba4-a605-4756-a2cd-b1cf7289dc4e",
   "metadata": {},
   "outputs": [],
   "source": [
    "twitter = twitter[twitter['language'].str.contains('English',case=False)]#.value_counts()"
   ]
  },
  {
   "cell_type": "code",
   "execution_count": 27,
   "id": "4e3a04a0-5c4c-4432-9d21-b86daf27ac84",
   "metadata": {},
   "outputs": [
    {
     "data": {
      "text/plain": [
       "32"
      ]
     },
     "execution_count": 27,
     "metadata": {},
     "output_type": "execute_result"
    }
   ],
   "source": [
    "len(twitter)"
   ]
  },
  {
   "cell_type": "code",
   "execution_count": 34,
   "id": "a58085e4-0a33-4f13-ae0d-9edbb86c1206",
   "metadata": {},
   "outputs": [
    {
     "data": {
      "text/plain": [
       "Index(['name', 'pub', 'data', 'desc', 'details', 'size', 'percentage',\n",
       "       'language', 'annotation', 'platform', 'medium', 'ref'],\n",
       "      dtype='object')"
      ]
     },
     "execution_count": 34,
     "metadata": {},
     "output_type": "execute_result"
    }
   ],
   "source": [
    "df.columns"
   ]
  },
  {
   "cell_type": "code",
   "execution_count": 38,
   "id": "432d349b-f974-4028-ba0f-8f30b357a2bf",
   "metadata": {},
   "outputs": [
    {
     "data": {
      "text/html": [
       "<div>\n",
       "<style scoped>\n",
       "    .dataframe tbody tr th:only-of-type {\n",
       "        vertical-align: middle;\n",
       "    }\n",
       "\n",
       "    .dataframe tbody tr th {\n",
       "        vertical-align: top;\n",
       "    }\n",
       "\n",
       "    .dataframe thead th {\n",
       "        text-align: right;\n",
       "    }\n",
       "</style>\n",
       "<table border=\"1\" class=\"dataframe\">\n",
       "  <thead>\n",
       "    <tr style=\"text-align: right;\">\n",
       "      <th></th>\n",
       "      <th>name</th>\n",
       "      <th>pub</th>\n",
       "      <th>data</th>\n",
       "      <th>desc</th>\n",
       "      <th>details</th>\n",
       "      <th>size</th>\n",
       "      <th>percentage</th>\n",
       "      <th>language</th>\n",
       "      <th>annotation</th>\n",
       "      <th>platform</th>\n",
       "      <th>medium</th>\n",
       "      <th>ref</th>\n",
       "    </tr>\n",
       "  </thead>\n",
       "  <tbody>\n",
       "  </tbody>\n",
       "</table>\n",
       "</div>"
      ],
      "text/plain": [
       "Empty DataFrame\n",
       "Columns: [name, pub, data, desc, details, size, percentage, language, annotation, platform, medium, ref]\n",
       "Index: []"
      ]
     },
     "execution_count": 38,
     "metadata": {},
     "output_type": "execute_result"
    }
   ],
   "source": [
    "twitter[twitter['ref'].str.contains('TweetEval', case=False)]"
   ]
  },
  {
   "cell_type": "code",
   "execution_count": 29,
   "id": "7b9d0b05-fae0-463d-9563-6bad98a3beb1",
   "metadata": {},
   "outputs": [
    {
     "data": {
      "text/html": [
       "<div>\n",
       "<style scoped>\n",
       "    .dataframe tbody tr th:only-of-type {\n",
       "        vertical-align: middle;\n",
       "    }\n",
       "\n",
       "    .dataframe tbody tr th {\n",
       "        vertical-align: top;\n",
       "    }\n",
       "\n",
       "    .dataframe thead th {\n",
       "        text-align: right;\n",
       "    }\n",
       "</style>\n",
       "<table border=\"1\" class=\"dataframe\">\n",
       "  <thead>\n",
       "    <tr style=\"text-align: right;\">\n",
       "      <th></th>\n",
       "      <th>name</th>\n",
       "      <th>size</th>\n",
       "    </tr>\n",
       "  </thead>\n",
       "  <tbody>\n",
       "    <tr>\n",
       "      <th>15</th>\n",
       "      <td>Measuring Hate Speech</td>\n",
       "      <td>39565commentsannotatedby7912annotatorson10ordi...</td>\n",
       "    </tr>\n",
       "    <tr>\n",
       "      <th>17</th>\n",
       "      <td>The ‘Call me sexist, but’ sexism dataset</td>\n",
       "      <td>6325</td>\n",
       "    </tr>\n",
       "    <tr>\n",
       "      <th>18</th>\n",
       "      <td>Hate Towards the Political Opponent: A Twitter...</td>\n",
       "      <td>3000</td>\n",
       "    </tr>\n",
       "    <tr>\n",
       "      <th>19</th>\n",
       "      <td>AbuseEval v1.0</td>\n",
       "      <td>14100</td>\n",
       "    </tr>\n",
       "    <tr>\n",
       "      <th>20</th>\n",
       "      <td>Do You Really Want to                  Hurt Me...</td>\n",
       "      <td>1511swearwords(1675tweets)</td>\n",
       "    </tr>\n",
       "    <tr>\n",
       "      <th>21</th>\n",
       "      <td>Multimodal                  Meme Dataset (Mult...</td>\n",
       "      <td>743</td>\n",
       "    </tr>\n",
       "    <tr>\n",
       "      <th>26</th>\n",
       "      <td>HateXplain: A Benchmark                  Datas...</td>\n",
       "      <td>20148</td>\n",
       "    </tr>\n",
       "    <tr>\n",
       "      <th>27</th>\n",
       "      <td>ALONE: A Dataset for Toxic Behavior           ...</td>\n",
       "      <td>688</td>\n",
       "    </tr>\n",
       "    <tr>\n",
       "      <th>29</th>\n",
       "      <td>Multimodal                  Meme Dataset (Mult...</td>\n",
       "      <td>743</td>\n",
       "    </tr>\n",
       "    <tr>\n",
       "      <th>30</th>\n",
       "      <td>Predicting the Type and Target of             ...</td>\n",
       "      <td>14100</td>\n",
       "    </tr>\n",
       "    <tr>\n",
       "      <th>33</th>\n",
       "      <td>Automated Hate Speech                  Detecti...</td>\n",
       "      <td>24802</td>\n",
       "    </tr>\n",
       "    <tr>\n",
       "      <th>35</th>\n",
       "      <td>Hateful                  Symbols or Hateful Pe...</td>\n",
       "      <td>16914</td>\n",
       "    </tr>\n",
       "    <tr>\n",
       "      <th>38</th>\n",
       "      <td>Are                  You a Racist or Am I Seei...</td>\n",
       "      <td>4033</td>\n",
       "    </tr>\n",
       "    <tr>\n",
       "      <th>39</th>\n",
       "      <td>When Does a Compliment Become Sexist? Analysis...</td>\n",
       "      <td>712</td>\n",
       "    </tr>\n",
       "    <tr>\n",
       "      <th>40</th>\n",
       "      <td>Overview of the                  Task on Autom...</td>\n",
       "      <td>3977</td>\n",
       "    </tr>\n",
       "    <tr>\n",
       "      <th>42</th>\n",
       "      <td>Characterizing and Detecting Hateful Users on ...</td>\n",
       "      <td>4972</td>\n",
       "    </tr>\n",
       "    <tr>\n",
       "      <th>45</th>\n",
       "      <td>Multilingual and Multi-Aspect Hate            ...</td>\n",
       "      <td>5647</td>\n",
       "    </tr>\n",
       "    <tr>\n",
       "      <th>46</th>\n",
       "      <td>Exploring Hate Speech Detection in            ...</td>\n",
       "      <td>149823</td>\n",
       "    </tr>\n",
       "    <tr>\n",
       "      <th>47</th>\n",
       "      <td>Predicting the Type and Target                ...</td>\n",
       "      <td>14100</td>\n",
       "    </tr>\n",
       "    <tr>\n",
       "      <th>48</th>\n",
       "      <td>hatEval, SemEval-2019 Task 5: Multilingual Det...</td>\n",
       "      <td>13000</td>\n",
       "    </tr>\n",
       "    <tr>\n",
       "      <th>49</th>\n",
       "      <td>Peer to Peer Hate: Hate Speech                ...</td>\n",
       "      <td>27330</td>\n",
       "    </tr>\n",
       "    <tr>\n",
       "      <th>50</th>\n",
       "      <td>Overview of the HASOC track at FIRE 2019: Hate...</td>\n",
       "      <td>7005</td>\n",
       "    </tr>\n",
       "    <tr>\n",
       "      <th>51</th>\n",
       "      <td>Detecting East Asian Prejudice on Social media</td>\n",
       "      <td>20000</td>\n",
       "    </tr>\n",
       "    <tr>\n",
       "      <th>52</th>\n",
       "      <td>Large Scale                  Crowdsourcing and...</td>\n",
       "      <td>80000</td>\n",
       "    </tr>\n",
       "    <tr>\n",
       "      <th>53</th>\n",
       "      <td>A Large Labeled Corpus for Online Harassment  ...</td>\n",
       "      <td>35000</td>\n",
       "    </tr>\n",
       "    <tr>\n",
       "      <th>58</th>\n",
       "      <td>A Quality Type-aware                  Annotate...</td>\n",
       "      <td>24189</td>\n",
       "    </tr>\n",
       "    <tr>\n",
       "      <th>63</th>\n",
       "      <td>Twitter Sentiment Analysis</td>\n",
       "      <td>31961</td>\n",
       "    </tr>\n",
       "    <tr>\n",
       "      <th>68</th>\n",
       "      <td>HateXplain: A Benchmark                  Datas...</td>\n",
       "      <td>20148</td>\n",
       "    </tr>\n",
       "    <tr>\n",
       "      <th>81</th>\n",
       "      <td>Aggression-annotated Corpus of                ...</td>\n",
       "      <td>21000</td>\n",
       "    </tr>\n",
       "    <tr>\n",
       "      <th>82</th>\n",
       "      <td>Did You Offend Me?                  Classifica...</td>\n",
       "      <td>3189</td>\n",
       "    </tr>\n",
       "    <tr>\n",
       "      <th>83</th>\n",
       "      <td>A Dataset of                  Hindi-English Co...</td>\n",
       "      <td>4575</td>\n",
       "    </tr>\n",
       "    <tr>\n",
       "      <th>109</th>\n",
       "      <td>Hate-Speech and Offensive Language            ...</td>\n",
       "      <td>10041</td>\n",
       "    </tr>\n",
       "  </tbody>\n",
       "</table>\n",
       "</div>"
      ],
      "text/plain": [
       "                                                  name  \\\n",
       "15                               Measuring Hate Speech   \n",
       "17            The ‘Call me sexist, but’ sexism dataset   \n",
       "18   Hate Towards the Political Opponent: A Twitter...   \n",
       "19                                      AbuseEval v1.0   \n",
       "20   Do You Really Want to                  Hurt Me...   \n",
       "21   Multimodal                  Meme Dataset (Mult...   \n",
       "26   HateXplain: A Benchmark                  Datas...   \n",
       "27   ALONE: A Dataset for Toxic Behavior           ...   \n",
       "29   Multimodal                  Meme Dataset (Mult...   \n",
       "30   Predicting the Type and Target of             ...   \n",
       "33   Automated Hate Speech                  Detecti...   \n",
       "35   Hateful                  Symbols or Hateful Pe...   \n",
       "38   Are                  You a Racist or Am I Seei...   \n",
       "39   When Does a Compliment Become Sexist? Analysis...   \n",
       "40   Overview of the                  Task on Autom...   \n",
       "42   Characterizing and Detecting Hateful Users on ...   \n",
       "45   Multilingual and Multi-Aspect Hate            ...   \n",
       "46   Exploring Hate Speech Detection in            ...   \n",
       "47   Predicting the Type and Target                ...   \n",
       "48   hatEval, SemEval-2019 Task 5: Multilingual Det...   \n",
       "49   Peer to Peer Hate: Hate Speech                ...   \n",
       "50   Overview of the HASOC track at FIRE 2019: Hate...   \n",
       "51      Detecting East Asian Prejudice on Social media   \n",
       "52   Large Scale                  Crowdsourcing and...   \n",
       "53   A Large Labeled Corpus for Online Harassment  ...   \n",
       "58   A Quality Type-aware                  Annotate...   \n",
       "63                          Twitter Sentiment Analysis   \n",
       "68   HateXplain: A Benchmark                  Datas...   \n",
       "81   Aggression-annotated Corpus of                ...   \n",
       "82   Did You Offend Me?                  Classifica...   \n",
       "83   A Dataset of                  Hindi-English Co...   \n",
       "109  Hate-Speech and Offensive Language            ...   \n",
       "\n",
       "                                                  size  \n",
       "15   39565commentsannotatedby7912annotatorson10ordi...  \n",
       "17                                                6325  \n",
       "18                                                3000  \n",
       "19                                               14100  \n",
       "20                          1511swearwords(1675tweets)  \n",
       "21                                                 743  \n",
       "26                                               20148  \n",
       "27                                                 688  \n",
       "29                                                 743  \n",
       "30                                               14100  \n",
       "33                                               24802  \n",
       "35                                               16914  \n",
       "38                                                4033  \n",
       "39                                                 712  \n",
       "40                                                3977  \n",
       "42                                                4972  \n",
       "45                                                5647  \n",
       "46                                              149823  \n",
       "47                                               14100  \n",
       "48                                               13000  \n",
       "49                                               27330  \n",
       "50                                                7005  \n",
       "51                                               20000  \n",
       "52                                               80000  \n",
       "53                                               35000  \n",
       "58                                               24189  \n",
       "63                                               31961  \n",
       "68                                               20148  \n",
       "81                                               21000  \n",
       "82                                                3189  \n",
       "83                                                4575  \n",
       "109                                              10041  "
      ]
     },
     "execution_count": 29,
     "metadata": {},
     "output_type": "execute_result"
    }
   ],
   "source": [
    "twitter[['name','size']]"
   ]
  },
  {
   "cell_type": "code",
   "execution_count": null,
   "id": "8609b098-18bd-4e90-989a-b06c059f7e3d",
   "metadata": {},
   "outputs": [],
   "source": []
  }
 ],
 "metadata": {
  "kernelspec": {
   "display_name": "Python 3",
   "language": "python",
   "name": "python3"
  },
  "language_info": {
   "codemirror_mode": {
    "name": "ipython",
    "version": 3
   },
   "file_extension": ".py",
   "mimetype": "text/x-python",
   "name": "python",
   "nbconvert_exporter": "python",
   "pygments_lexer": "ipython3",
   "version": "3.8.10"
  }
 },
 "nbformat": 4,
 "nbformat_minor": 5
}
