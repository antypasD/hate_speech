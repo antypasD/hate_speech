{
 "cells": [
  {
   "attachments": {},
   "cell_type": "markdown",
   "metadata": {},
   "source": [
    "# remove classism / Economic\n",
    "# remove nonreligious\n",
    "# check trans (in sexism/sexual_orientation)\n",
    "# minority could be religous~"
   ]
  },
  {
   "cell_type": "code",
   "execution_count": 65,
   "metadata": {},
   "outputs": [],
   "source": [
    "import pandas as pd\n",
    "from glob import glob"
   ]
  },
  {
   "cell_type": "code",
   "execution_count": 66,
   "metadata": {},
   "outputs": [
    {
     "name": "stdout",
     "output_type": "stream",
     "text": [
      "./datasets/call_me_sexist.csv 13631 [0 1]\n",
      "./datasets/measuring_hate_speech.csv 7608 [0. 1.]\n",
      "./datasets/multilingual_and_multi_aspect.csv 1939 [1 0]\n",
      "./datasets/hateful-symbols_or_hateful-people.csv 4492 [1 0]\n",
      "./datasets/large_scale_crowdsourcing.csv 2209 [1 0]\n",
      "./datasets/hatEval2019.csv 12962 [0 1]\n",
      "./datasets/hate_towards_political.csv 3000 [0 1]\n",
      "./datasets/offense_eval.csv 13240 [0 1]\n",
      "./datasets/automated_hate_speech.csv 5593 [0 1]\n",
      "./datasets/hasoc_fire2019.csv 4734 [0 1]\n",
      "./datasets/twitter_sentiment_analysis.csv 31962 [0 1]\n",
      "./datasets/east_asian_prejudice.csv 17263 [0 1]\n",
      "./datasets/hateXplain.csv 8084 [0 1]\n",
      "./datasets/are_you_racist_or.csv 4114 [0. 1.]\n"
     ]
    },
    {
     "data": {
      "text/plain": [
       "(130831, 130831, 14)"
      ]
     },
     "execution_count": 66,
     "metadata": {},
     "output_type": "execute_result"
    }
   ],
   "source": [
    "fnames = glob('./datasets/*.csv')\n",
    "\n",
    "df = []\n",
    "total = 0\n",
    "count = 0\n",
    "for f in fnames:\n",
    "    temp = pd.read_csv(f)\n",
    "    print(f, len(temp), temp['label'].unique())\n",
    "\n",
    "    total += len(temp)\n",
    "\n",
    "    df.append(temp)\n",
    "\n",
    "    count += 1\n",
    "\n",
    "df = pd.concat(df)\n",
    "len(df), total, count"
   ]
  },
  {
   "cell_type": "code",
   "execution_count": 67,
   "metadata": {},
   "outputs": [
    {
     "data": {
      "text/plain": [
       "0.0    103521\n",
       "1.0     27310\n",
       "Name: label, dtype: int64"
      ]
     },
     "execution_count": 67,
     "metadata": {},
     "output_type": "execute_result"
    }
   ],
   "source": [
    "df['label'].value_counts()"
   ]
  },
  {
   "cell_type": "code",
   "execution_count": 68,
   "metadata": {},
   "outputs": [],
   "source": [
    "# ensure consistency on index\n",
    "df = df.reset_index(drop=True)"
   ]
  },
  {
   "cell_type": "code",
   "execution_count": 69,
   "metadata": {},
   "outputs": [
    {
     "data": {
      "text/plain": [
       "0    0.791257\n",
       "1    0.208743\n",
       "Name: label, dtype: float64"
      ]
     },
     "execution_count": 69,
     "metadata": {},
     "output_type": "execute_result"
    }
   ],
   "source": [
    "df['label'] = df['label'].astype(int)\n",
    "df['label'].value_counts(normalize=True)"
   ]
  },
  {
   "cell_type": "code",
   "execution_count": 70,
   "metadata": {},
   "outputs": [
    {
     "data": {
      "text/plain": [
       "0.1362062508121164"
      ]
     },
     "execution_count": 70,
     "metadata": {},
     "output_type": "execute_result"
    }
   ],
   "source": [
    "# with multilabel (approximately)\n",
    "df['multilabel'].notnull().sum()/len(df)"
   ]
  },
  {
   "cell_type": "code",
   "execution_count": 71,
   "metadata": {},
   "outputs": [
    {
     "data": {
      "text/plain": [
       "racism                4923\n",
       "neither               3644\n",
       "none                  2654\n",
       "sexism                2243\n",
       "sexist                1809\n",
       "religion              1050\n",
       "other                  356\n",
       "disability             214\n",
       "sexuality              193\n",
       "sexual_orientation     142\n",
       "gender                 135\n",
       "special_needs           94\n",
       "individual              77\n",
       "women                   51\n",
       "immigrants              35\n",
       "left_wing_people        27\n",
       "refugees                25\n",
       "hispanics               24\n",
       "refugee                 24\n",
       "african_descent         24\n",
       "asians                  19\n",
       "muslims                 16\n",
       "indian/hindu            14\n",
       "gay                     11\n",
       "both                    10\n",
       "jews                     3\n",
       "arabs                    2\n",
       "christian                1\n",
       "Name: multilabel, dtype: int64"
      ]
     },
     "execution_count": 71,
     "metadata": {},
     "output_type": "execute_result"
    }
   ],
   "source": [
    "df['multilabel'].value_counts()"
   ]
  },
  {
   "cell_type": "code",
   "execution_count": 72,
   "metadata": {},
   "outputs": [],
   "source": [
    "# sexism, racism\n",
    "map_multilabel =  {\n",
    "    'racism': 'racism',\n",
    "    'neither': None,\n",
    "    'none': None,\n",
    "    'sexism': 'sexism',\n",
    "    'sexist': 'sexism',\n",
    "    'religion': 'religion',\n",
    "    'other': None,\n",
    "    'disability': 'disability',\n",
    "    'sexuality': 'sexual_orientation',\n",
    "    'sexual_orientation': 'sexual_orientation',\n",
    "    'gender': 'sexism',\n",
    "    'special_needs': 'disability',\n",
    "    'individual': None,\n",
    "    'women': 'sexism',\n",
    "    'immigrants': \"immigrants\",\n",
    "    'left_wing_people': None,\n",
    "    'refugees': \"immigrants\",\n",
    "    'hispanics': 'racism',\n",
    "    'refugee': \"immigrants\",\n",
    "    'african_descent': 'racism',\n",
    "    'asians': 'racism', \n",
    "    'muslims': 'religion',\n",
    "    'indian/hindu': 'racism',\n",
    "    'gay': 'sexual_orientation',\n",
    "    'both': None,\n",
    "    'jews': 'religion', # not sure\n",
    "    'arabs': 'racism',\n",
    "    'christian': 'religion'\n",
    "}"
   ]
  },
  {
   "cell_type": "code",
   "execution_count": 73,
   "metadata": {},
   "outputs": [],
   "source": [
    "df['multilabel'] = df['multilabel'].replace(map_multilabel)"
   ]
  },
  {
   "cell_type": "code",
   "execution_count": 74,
   "metadata": {},
   "outputs": [
    {
     "data": {
      "text/plain": [
       "racism                45.294969\n",
       "sexism                38.346001\n",
       "religion               9.681506\n",
       "sexual_orientation     3.130655\n",
       "disability             2.786826\n",
       "immigrants             0.760043\n",
       "Name: multilabel, dtype: float64"
      ]
     },
     "execution_count": 74,
     "metadata": {},
     "output_type": "execute_result"
    }
   ],
   "source": [
    "df['multilabel'].value_counts(normalize=True) * 100"
   ]
  },
  {
   "cell_type": "code",
   "execution_count": 75,
   "metadata": {},
   "outputs": [],
   "source": [
    "# ignore immigrants for now\n",
    "df.loc[df[df['multilabel'] == 'immigrants'].index, 'multilabel'] = None"
   ]
  },
  {
   "cell_type": "code",
   "execution_count": 76,
   "metadata": {},
   "outputs": [
    {
     "data": {
      "text/plain": [
       "racism                45.641867\n",
       "sexism                38.639679\n",
       "religion               9.755653\n",
       "sexual_orientation     3.154632\n",
       "disability             2.808169\n",
       "Name: multilabel, dtype: float64"
      ]
     },
     "execution_count": 76,
     "metadata": {},
     "output_type": "execute_result"
    }
   ],
   "source": [
    "df['multilabel'].value_counts(normalize=True) * 100\n"
   ]
  },
  {
   "cell_type": "code",
   "execution_count": 57,
   "metadata": {},
   "outputs": [],
   "source": [
    "df.to_csv('grouped_dataset_cleaned.csv', index=False)"
   ]
  },
  {
   "cell_type": "code",
   "execution_count": null,
   "metadata": {},
   "outputs": [],
   "source": []
  }
 ],
 "metadata": {
  "kernelspec": {
   "display_name": "Python 3.8.10 64-bit",
   "language": "python",
   "name": "python3"
  },
  "language_info": {
   "codemirror_mode": {
    "name": "ipython",
    "version": 3
   },
   "file_extension": ".py",
   "mimetype": "text/x-python",
   "name": "python",
   "nbconvert_exporter": "python",
   "pygments_lexer": "ipython3",
   "version": "3.8.10"
  },
  "orig_nbformat": 4,
  "vscode": {
   "interpreter": {
    "hash": "31f2aee4e71d21fbe5cf8b01ff0e069b9275f58929596ceb00d14d90e3e16cd6"
   }
  }
 },
 "nbformat": 4,
 "nbformat_minor": 2
}
