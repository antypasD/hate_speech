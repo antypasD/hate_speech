{
 "cells": [
  {
   "attachments": {},
   "cell_type": "markdown",
   "metadata": {},
   "source": [
    "# remove classism / Economic\n",
    "# remove nonreligious\n",
    "# check trans (in sexism/sexual_orientation)\n",
    "# minority could be religous~"
   ]
  },
  {
   "cell_type": "code",
   "execution_count": 69,
   "metadata": {},
   "outputs": [],
   "source": [
    "import pandas as pd\n",
    "from glob import glob"
   ]
  },
  {
   "cell_type": "code",
   "execution_count": 70,
   "metadata": {},
   "outputs": [
    {
     "name": "stdout",
     "output_type": "stream",
     "text": [
      "./datasets/automated_hate_speech.csv 24783\n",
      "./datasets/measuring_hate_speech.csv 15475\n",
      "./datasets/large_scale_crowdsourcing.csv 2209\n",
      "./datasets/hasoc_fire2019.csv 4734\n",
      "./datasets/twitter_sentiment_analysis.csv 31962\n",
      "./datasets/hatEval2019.csv 12970\n",
      "./datasets/hate_towards_political.csv 3000\n",
      "./datasets/are_you_racist_or.csv 4128\n",
      "./datasets/hateful-symbols_or_hateful-people.csv 4494\n",
      "./datasets/call_me_sexist.csv 13631\n",
      "./datasets/offense_eval.csv 13240\n",
      "./datasets/hateXplain.csv 20148\n",
      "./datasets/multilingual_and_multi_aspect.csv 1939\n",
      "./datasets/east_asian_prejudice.csv 17490\n"
     ]
    },
    {
     "data": {
      "text/plain": [
       "(170203, 170203, 14)"
      ]
     },
     "execution_count": 70,
     "metadata": {},
     "output_type": "execute_result"
    }
   ],
   "source": [
    "fnames = glob('./datasets/*.csv')\n",
    "\n",
    "df = []\n",
    "total = 0\n",
    "count = 0\n",
    "for f in fnames:\n",
    "    temp = pd.read_csv(f)\n",
    "    print(f, len(temp))\n",
    "    \n",
    "    total += len(temp)\n",
    "\n",
    "    df.append(temp)\n",
    "\n",
    "    count += 1\n",
    "\n",
    "df = pd.concat(df)\n",
    "len(df), total, count"
   ]
  },
  {
   "cell_type": "code",
   "execution_count": 71,
   "metadata": {},
   "outputs": [
    {
     "data": {
      "text/plain": [
       "1         106773\n",
       "2          54146\n",
       "0           4790\n",
       "1           2654\n",
       "2           1837\n",
       "sexism         1\n",
       "Name: label, dtype: int64"
      ]
     },
     "execution_count": 71,
     "metadata": {},
     "output_type": "execute_result"
    }
   ],
   "source": [
    "df['label'].value_counts()"
   ]
  },
  {
   "cell_type": "code",
   "execution_count": 72,
   "metadata": {},
   "outputs": [
    {
     "data": {
      "text/plain": [
       "170192"
      ]
     },
     "execution_count": 72,
     "metadata": {},
     "output_type": "execute_result"
    }
   ],
   "source": [
    "# dimos: TODO why do we get this?\n",
    "df = df[~df['dataset'].isin(['@MT8_9 http', '#yesallmen '])]\n",
    "df = df[~df['label'].isna()]\n",
    "df = df[~df['text'].isna()]\n",
    "len(df)"
   ]
  },
  {
   "cell_type": "code",
   "execution_count": 73,
   "metadata": {},
   "outputs": [
    {
     "data": {
      "text/plain": [
       "1    0.642915\n",
       "2    0.328940\n",
       "0    0.028145\n",
       "Name: label, dtype: float64"
      ]
     },
     "execution_count": 73,
     "metadata": {},
     "output_type": "execute_result"
    }
   ],
   "source": [
    "df['label'] = df['label'].astype(int)\n",
    "df['label'].value_counts(normalize=True)"
   ]
  },
  {
   "cell_type": "code",
   "execution_count": 74,
   "metadata": {},
   "outputs": [
    {
     "data": {
      "text/plain": [
       "0.1347595656670114"
      ]
     },
     "execution_count": 74,
     "metadata": {},
     "output_type": "execute_result"
    }
   ],
   "source": [
    "# with multilabel (approximately)\n",
    "df['multilabel'].notnull().sum()/len(df)"
   ]
  },
  {
   "cell_type": "code",
   "execution_count": 81,
   "metadata": {},
   "outputs": [
    {
     "data": {
      "text/plain": [
       "array(['d'], dtype=object)"
      ]
     },
     "execution_count": 81,
     "metadata": {},
     "output_type": "execute_result"
    }
   ],
   "source": [
    "df[df['multilabel'] == 'Arab']['dataset'].unique()"
   ]
  },
  {
   "cell_type": "code",
   "execution_count": 64,
   "metadata": {},
   "outputs": [
    {
     "data": {
      "text/plain": [
       "array([nan, 'neither', 'sexism', 'racism', 'none', 'sexist', 'Asian',\n",
       "       'Caucasian', 'Jewish', 'African', 'Islam', 'Women', 'Hispanic',\n",
       "       'Homosexual', 'Disability', 'Arab', 'Other', 'Men', 'Indian',\n",
       "       'Economic', 'Refugee', 'Minority', 'Heterosexual', 'Christian',\n",
       "       'Hindu', 'Bisexual', 'Indigenous', 'Nonreligious', 'Buddhism',\n",
       "       'disability', 'origin', 'gender', 'sexual_orientation', 'other',\n",
       "       'religion'], dtype=object)"
      ]
     },
     "execution_count": 64,
     "metadata": {},
     "output_type": "execute_result"
    }
   ],
   "source": [
    "df['multilabel'].unique()"
   ]
  },
  {
   "cell_type": "code",
   "execution_count": 82,
   "metadata": {},
   "outputs": [
    {
     "data": {
      "text/plain": [
       "array(['@user cunt embarrassment club',\n",
       "       '@user still bitter cunt. much interest arsenal? player player fod us get sold.',\n",
       "       'children = 52% refugees', 'horrible cunt @user',\n",
       "       '@user @user dont take allegations seriously thats feminazi brainwashing. see is. context everything.',\n",
       "       'fucking hate lanky ginger cunt joseph brady',\n",
       "       \"@user @user trans male mongoloid woman's event. goes @user\",\n",
       "       '@user boys boys.....until feminazi mothers beat toxic masculinity them.',\n",
       "       \"@user fun i've twat think started ignoring\",\n",
       "       '@user @user twat shot sleeping  lion',\n",
       "       \"@user course feminazi's roll one other. frauds!\",\n",
       "       '@user still fucking twat', 'feminist called fat twat.',\n",
       "       'try hardest tweet trump lol cunt @user',\n",
       "       'iconic.. factual! best thing slothy little cunt said long time merry saturday filthy ani @user',\n",
       "       'always nights stopped drinking feel fine morning ones cunt ya',\n",
       "       'everytime get train always cunt sat reserved seat ',\n",
       "       \"today's ridiculously vapid intolerant cunt-radiction brought letter currently ascender-transitio @user\",\n",
       "       \"lynching! wait. ok lynching deep state feminazi conspiracy! yeah that's it.\",\n",
       "       '@user u take aggression lady behind me? giant twat',\n",
       "       'information @user absolute twat reason sjws told deserve get gaybashed ju @user',\n",
       "       'old guy bangs young twat @user',\n",
       "       '@user @user @user 2 price 1 guaranteed less 4 accounts feminazi @user',\n",
       "       'fucking cunt',\n",
       "       '@user could care less little feminazi. screwed way top long trail discontent. @user',\n",
       "       '@user good luck semi day ya hibs cunt', 'feed twat lions. @user',\n",
       "       'fuck dumbass bitch stupid ass idiot fucking crap load bullshit useless ass cunt headass asshole its-impossib @user',\n",
       "       \"fuck zombie apocalypse never gonna happen! ni'm worried 'thick cunt' apocalypse already upon us!\",\n",
       "       'cunt smashed phone hand last night ', 'okay faggot @user',\n",
       "       'ya different cracker daddyncalled cunt pedophile nhe said 18ndie slow ya fuckin toe rags',\n",
       "       '@user @user @user say limited edition limited fortnitemares mongoloid lmao.',\n",
       "       'foto gaya ngewe negro homosexvidoes', '@user made angry. cunt.',\n",
       "       'tory twat @user',\n",
       "       \"@user stick rag round head shut cunt up. still bad enough we've gotta endure shite song twenty years later\",\n",
       "       '@user @user @user real women. feminazis. demean men fun ta @user',\n",
       "       '@user @user @user twat',\n",
       "       'im playing comp game actual buns cunt 9 bangs riot shields gotta fucking go',\n",
       "       '@user @user @user hurry vote cunt',\n",
       "       \"@user jesus thats also awful. nah one read fellaini repping cunt dick. i've love @user\",\n",
       "       'kill cunt!! @user',\n",
       "       'twat left keeps telling stopstop whatdefeating every electionstop cancelling th @user',\n",
       "       '@user stop giving twat attention. obvious clout chasing',\n",
       "       '@user big sleepy twat ',\n",
       "       'whey hey boring old trout mis pouting cunt blocked like telling truth @user',\n",
       "       'stream men asked opinion cunt @user', \"he's twat. @user\",\n",
       "       '@user @user hes hun good computers. ignore twat',\n",
       "       'bitch cunt ever date someone talks like that.',\n",
       "       'steve little cunt #thehauntingofhillhouse',\n",
       "       'officials created sanctuary cities illegal aliens held responsible criminal @user',\n",
       "       '@user @user @user @user @user oh fuck pompous cunt. neil portilo @user',\n",
       "       'whoop ass even remake faggot whis @user',\n",
       "       'women support sexual predators power cunt-mascots oppression.',\n",
       "       \"@user @user @user @user truth told even gate man's level.. stay lane twat\",\n",
       "       '@user benitez useless cunt', 'horrible twat. unfollow @user',\n",
       "       \"@user nnhe'll picking fucking jaw floor cunt \",\n",
       "       'oh fuck stupid cunt @user',\n",
       "       'see ian brown handed arse plate @user . nnas ya plastic manc twat.',\n",
       "       '@user yass dyke.',\n",
       "       \"@user oh nice. mob angry feminazi democratic women. can't stand decent conservative @user\",\n",
       "       '@user twat gonna twat! ',\n",
       "       \"think genuine consensus today's game fucking smash steven naismith's twat\",\n",
       "       \"sos nearly called woman cunt driving mum car say i'm still shaking rage cunt\",\n",
       "       '@user @user losing teeth today cunt  address everywhere  ',\n",
       "       'fuck twat.... @user', '@user man hater feminazi',\n",
       "       \"#clocksback cunt insomnia......don't poke bear today @user\",\n",
       "       \"need friends someone epic join stupid cunt what's ur fucking problem shit cunt @user\",\n",
       "       'fucking cunt',\n",
       "       \"@user @user wanting protect children sexual harassment abuse makes feminazi i'll take it.\",\n",
       "       \"@user @user feminazi's fighting for? laws exist books need changing @user\",\n",
       "       \"@user another soros paid feminazi. i'm finding interesting women butch. attorneys liar....\",\n",
       "       \"regret beat shit feminazi's. well looks like #alisonhrabar @user\",\n",
       "       'sure toxic feminazi men rapists movement start? would help answer questio @user',\n",
       "       'dyke sister getting dragged tsr comments be. @user',\n",
       "       'wouldnt expect different far left hypocritical feminazi twit. get professional help asap thin @user',\n",
       "       'faggot...i forget', 'follow retweet win nothing faggot',\n",
       "       '@user think twat  @user', \"wonder i'll ever stop mongy cunt\",\n",
       "       '@user hes literal twat hey? tried justify twitter toonthis guy went twitchcon @user',\n",
       "       \"there's fucking stupid little brat village drives around like twat dangerously pulls parking @user\",\n",
       "       'amen! feminazi man-eaters evil curse! @user',\n",
       "       \"also joo - saying (it's okay white) promotes --&gt;white&lt;-- supremacy.\",\n",
       "       'absolute cunt. fucking point this? different shooting target range fucki @user',\n",
       "       '@user dude shut fuck up. fucking 3 year old fat suit. disrespectful cunt. reas @user',\n",
       "       'fucking bad cheeesus.. self righteous cunt. @user',\n",
       "       '@user twat really say this? sadly almost sounds like might believably words? surel @user',\n",
       "       '@user dumb. dumb. hooe dumb. eat shit racist twat',\n",
       "       'think translates nyou twat  @user',\n",
       "       '@user stayed in. dont relate feminazi useful idiots. enjoy living free country gr @user',\n",
       "       'blunt cunt rhyme reason bitch',\n",
       "       'jesus goddamn whore christ. jesus goddamn cunt christ. jesus goddamn whore christ. jesus goddamn cunt christ. jesus @user',\n",
       "       'jamie oliver twat jamie oliver twat jamie oliver twat jamie oliver twat jamie oliver twat @user',\n",
       "       '@user like called gillebrand whack job feminazi hawaii',\n",
       "       \"can't jam spic music ion want\",\n",
       "       \"i've never seen story overhyped jamal khashoggi bullshit. americans care raghead reporte @user\",\n",
       "       '@user @user senseless unthoughtful cunt. father husband son may died care @user',\n",
       "       '@user @user twat',\n",
       "       '@user dont impossible keep nightmare also looked like feminazi @user',\n",
       "       'fuck that. feminazis outraged ...bring say! @user',\n",
       "       'wish retarded looking. probably friends real life. would nice life.',\n",
       "       'strictly come mongol',\n",
       "       '@user @user could admit twat would probably enough next leader snp .',\n",
       "       '@user made complete twat today you?',\n",
       "       'father dinosaur. mother gave raise ungrateful faggot.',\n",
       "       \"19-y-o waitress tells story arrest @user assaulting dope bus insisted using word 'faggot.' 1s @user\",\n",
       "       'ughhh wanna eat cunt ',\n",
       "       \"can't buy class!! know clubs dick head fans twat top lists #havesomerespect @user\",\n",
       "       'twat wasted time. good work ethic get job let alone try supervisor wtf',\n",
       "       'let get cunt banned @user',\n",
       "       \"@user thieving twat stole phone im using phone 10 years ago can't @user\",\n",
       "       'fucking cunt!!!!! @user',\n",
       "       \"@user @user @user da boss' da fucking cunt like. mean world relevan @user\",\n",
       "       '@user complete cunt',\n",
       "       \"@user can't serious! daddy's fault twat. living lala land. make sick. #fucktrumps\",\n",
       "       '@user cunt @user', 'always one cunt fucking hate', 'twat @user',\n",
       "       'faggot bus driver driving like 10mph wtf',\n",
       "       '@user ask us. ask twat mate white hoisr !',\n",
       "       '@user @user yeah cunt. drew this? ', 'bro...i love nigger! @user',\n",
       "       'help nigger help nigger help aniger',\n",
       "       'someone take pricks head off. cunt interviewed too. @user',\n",
       "       \"cunt: what's ur dressed as?nme(hard cunt): hard cunt.ncunt: good costume :3nme:*batters cunt*\",\n",
       "       \"hate niggas really think i'm entertain conversation dyke fucks .. move yo goofy ass around nigga.\"],\n",
       "      dtype=object)"
      ]
     },
     "execution_count": 82,
     "metadata": {},
     "output_type": "execute_result"
    }
   ],
   "source": [
    "df[df['multilabel'] == 'gender'].text.values"
   ]
  },
  {
   "cell_type": "code",
   "execution_count": 49,
   "metadata": {},
   "outputs": [],
   "source": [
    "# sexism, racism\n",
    "map_multilabel =  {\n",
    "    'neither': None,\n",
    "    'African': 'racism',\n",
    "    'none': None,\n",
    "    'sexist': 'sexism',\n",
    "    'Asian': 'racism',\n",
    "    'Caucasian': 'racism',\n",
    "    'Jewish': 'religious', # possible antisemite\n",
    "    'Islam': 'religious', #  possible islamaphobic\n",
    "    'Women': 'sexism',\n",
    "    'Hispanic': 'racism',\n",
    "    'Homosexual': 'sexual_orientation',\n",
    "    'Disability': 'disability',\n",
    "    'Arab': 'racism',\n",
    "    'Other': None,\n",
    "    'Men': 'sexism',\n",
    "    'Indian': 'racism',\n",
    "    'Economic': 'classism',\n",
    "    'Refugee': 'racism',\n",
    "    'Minority': 'racism',\n",
    "    'Heterosexual': 'sexual_orientation',\n",
    "    'Christian': 'religious',\n",
    "    'Hindu': 'religious',\n",
    "    'Bisexual': 'sexual_orientation',\n",
    "    'Indigenous': 'racism',\n",
    "    'Nonreligious': 'religious', # not sure\n",
    "    'Buddhism': 'religious',\n",
    "    'disability': 'disability',\n",
    "    'gender': 'sexism',\n",
    "    'religion': 'religious',\n",
    "    'origin': 'racism',\n",
    "    'other': None,\n",
    "}"
   ]
  },
  {
   "cell_type": "code",
   "execution_count": 66,
   "metadata": {},
   "outputs": [],
   "source": [
    "df['multilabel2'] = df['multilabel'].replace(map_multilabel)"
   ]
  },
  {
   "cell_type": "code",
   "execution_count": 67,
   "metadata": {},
   "outputs": [
    {
     "data": {
      "text/plain": [
       "racism                5566\n",
       "sexism                5357\n",
       "religious             2566\n",
       "sexual_orientation    1424\n",
       "disability             280\n",
       "classism                31\n",
       "Name: multilabel2, dtype: int64"
      ]
     },
     "execution_count": 67,
     "metadata": {},
     "output_type": "execute_result"
    }
   ],
   "source": [
    "df['multilabel2'].value_counts()"
   ]
  },
  {
   "cell_type": "code",
   "execution_count": 68,
   "metadata": {},
   "outputs": [
    {
     "data": {
      "text/plain": [
       "neither               3731\n",
       "African               2806\n",
       "none                  2654\n",
       "sexism                2165\n",
       "sexist                1809\n",
       "Islam                 1256\n",
       "Homosexual            1243\n",
       "Jewish                1242\n",
       "Other                 1170\n",
       "Women                 1072\n",
       "Arab                   710\n",
       "origin                 616\n",
       "Refugee                432\n",
       "Caucasian              372\n",
       "Asian                  270\n",
       "Hispanic               234\n",
       "disability             214\n",
       "Men                    180\n",
       "other                  156\n",
       "sexual_orientation     142\n",
       "gender                 131\n",
       "racism                  69\n",
       "Disability              66\n",
       "Heterosexual            38\n",
       "Christian               38\n",
       "Economic                31\n",
       "Minority                31\n",
       "Indian                  23\n",
       "religion                19\n",
       "Hindu                    9\n",
       "Indigenous               3\n",
       "Buddhism                 1\n",
       "Nonreligious             1\n",
       "Bisexual                 1\n",
       "Name: multilabel, dtype: int64"
      ]
     },
     "execution_count": 68,
     "metadata": {},
     "output_type": "execute_result"
    }
   ],
   "source": [
    "df['multilabel'].value_counts()"
   ]
  },
  {
   "cell_type": "code",
   "execution_count": 8,
   "metadata": {},
   "outputs": [],
   "source": [
    "df.to_csv('grouped_dataset_cleaned.csv', index=False)"
   ]
  }
 ],
 "metadata": {
  "kernelspec": {
   "display_name": "Python 3.8.10 64-bit",
   "language": "python",
   "name": "python3"
  },
  "language_info": {
   "codemirror_mode": {
    "name": "ipython",
    "version": 3
   },
   "file_extension": ".py",
   "mimetype": "text/x-python",
   "name": "python",
   "nbconvert_exporter": "python",
   "pygments_lexer": "ipython3",
   "version": "3.8.10 (default, Nov 14 2022, 12:59:47) \n[GCC 9.4.0]"
  },
  "orig_nbformat": 4,
  "vscode": {
   "interpreter": {
    "hash": "31f2aee4e71d21fbe5cf8b01ff0e069b9275f58929596ceb00d14d90e3e16cd6"
   }
  }
 },
 "nbformat": 4,
 "nbformat_minor": 2
}
